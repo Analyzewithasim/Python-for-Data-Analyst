{
  "nbformat": 4,
  "nbformat_minor": 0,
  "metadata": {
    "colab": {
      "provenance": [],
      "authorship_tag": "ABX9TyOAWsjdR0GbPK1NgLAdPe9/",
      "include_colab_link": true
    },
    "kernelspec": {
      "name": "python3",
      "display_name": "Python 3"
    },
    "language_info": {
      "name": "python"
    }
  },
  "cells": [
    {
      "cell_type": "markdown",
      "metadata": {
        "id": "view-in-github",
        "colab_type": "text"
      },
      "source": [
        "<a href=\"https://colab.research.google.com/github/Analyzewithasim/Python-for-Data-Analyst/blob/main/Python_Day_1.ipynb\" target=\"_parent\"><img src=\"https://colab.research.google.com/assets/colab-badge.svg\" alt=\"Open In Colab\"/></a>"
      ]
    },
    {
      "cell_type": "markdown",
      "source": [
        "# **Python Day 1**"
      ],
      "metadata": {
        "id": "r35iHb-7K_Tt"
      }
    },
    {
      "cell_type": "markdown",
      "source": [
        "`First python program`"
      ],
      "metadata": {
        "id": "8hXqX_mgLLdP"
      }
    },
    {
      "cell_type": "code",
      "source": [
        "print (\"Hello World\")"
      ],
      "metadata": {
        "colab": {
          "base_uri": "https://localhost:8080/"
        },
        "id": "SEIVnwnzLJUJ",
        "outputId": "b0d37e71-6b11-4c6f-f548-13639156342f"
      },
      "execution_count": null,
      "outputs": [
        {
          "output_type": "stream",
          "name": "stdout",
          "text": [
            "Hello World\n"
          ]
        }
      ]
    },
    {
      "cell_type": "code",
      "source": [
        "print (2 + 1)"
      ],
      "metadata": {
        "colab": {
          "base_uri": "https://localhost:8080/"
        },
        "id": "PbXkD3XmLZTb",
        "outputId": "8a652e6d-f603-46b1-e84a-1a0d4357a75f"
      },
      "execution_count": null,
      "outputs": [
        {
          "output_type": "stream",
          "name": "stdout",
          "text": [
            "3\n"
          ]
        }
      ]
    },
    {
      "cell_type": "markdown",
      "source": [
        "*Python Comments*"
      ],
      "metadata": {
        "id": "FNK8VKfTLg_4"
      }
    },
    {
      "cell_type": "code",
      "source": [
        "#This is a comment"
      ],
      "metadata": {
        "id": "5rkhaGCJLgC8"
      },
      "execution_count": null,
      "outputs": []
    },
    {
      "cell_type": "code",
      "source": [
        "print (\"Hello World\") #This is a comment"
      ],
      "metadata": {
        "colab": {
          "base_uri": "https://localhost:8080/"
        },
        "id": "U2bgVRQILycQ",
        "outputId": "998063e2-2108-454d-80e7-5aace55c3a71"
      },
      "execution_count": null,
      "outputs": [
        {
          "output_type": "stream",
          "name": "stdout",
          "text": [
            "Hello World\n"
          ]
        }
      ]
    },
    {
      "cell_type": "code",
      "source": [
        "#print (\"Hello World\")\n",
        "print (\"Python is a programming language\")"
      ],
      "metadata": {
        "colab": {
          "base_uri": "https://localhost:8080/"
        },
        "id": "4cZVf7iML3eO",
        "outputId": "46433cf1-4c57-4f03-e788-0bfb0713a8ce"
      },
      "execution_count": null,
      "outputs": [
        {
          "output_type": "stream",
          "name": "stdout",
          "text": [
            "Python is a programming language\n"
          ]
        }
      ]
    },
    {
      "cell_type": "markdown",
      "source": [
        "*Multiline Comments*"
      ],
      "metadata": {
        "id": "fgQ9KwAGMAyK"
      }
    },
    {
      "cell_type": "code",
      "source": [
        "#This is a comment 1\n",
        "#This is a comment 2\n",
        "#This is a comment 3\n",
        "print (\"Hello World\")"
      ],
      "metadata": {
        "colab": {
          "base_uri": "https://localhost:8080/"
        },
        "id": "WoV9d6dHL_ZL",
        "outputId": "13930c49-f64c-4ed3-8b4b-a670c35b67cb"
      },
      "execution_count": null,
      "outputs": [
        {
          "output_type": "stream",
          "name": "stdout",
          "text": [
            "Hello World\n"
          ]
        }
      ]
    },
    {
      "cell_type": "code",
      "source": [
        "\"\"\"This is a comment 1\"\"\"\n",
        "print (\"Hello World\")"
      ],
      "metadata": {
        "colab": {
          "base_uri": "https://localhost:8080/"
        },
        "id": "i0KgZEn8MOEd",
        "outputId": "ffc1fe8e-ff75-47d3-912e-515a6ee89552"
      },
      "execution_count": null,
      "outputs": [
        {
          "output_type": "stream",
          "name": "stdout",
          "text": [
            "Hello World\n"
          ]
        }
      ]
    },
    {
      "cell_type": "markdown",
      "source": [
        "# **Python Day 2**"
      ],
      "metadata": {
        "id": "1MH11yt4MiNA"
      }
    },
    {
      "cell_type": "markdown",
      "source": [
        "**Variables & Operators in Python**\n",
        "\n",
        "*A Python Variable is a container that stores values. Python is not a “statically typed \" language. We do not need to declare variables before using them or declare their type. A Python variable is a name given to a memory location. It is the basic unit of storage in a program.*"
      ],
      "metadata": {
        "id": "tdgJLg0tMnEI"
      }
    },
    {
      "cell_type": "markdown",
      "source": [
        "**Creating a Variable**"
      ],
      "metadata": {
        "id": "i7_GIr3yM2ja"
      }
    },
    {
      "cell_type": "code",
      "source": [
        "x = 5\n",
        "y = \"Apple\"\n",
        "print (x)\n",
        "print (y)"
      ],
      "metadata": {
        "colab": {
          "base_uri": "https://localhost:8080/"
        },
        "id": "WmeJBsKtMlSl",
        "outputId": "db3a469e-3e87-4852-885f-30849c2dab08"
      },
      "execution_count": null,
      "outputs": [
        {
          "output_type": "stream",
          "name": "stdout",
          "text": [
            "5\n",
            "Apple\n"
          ]
        }
      ]
    },
    {
      "cell_type": "markdown",
      "source": [
        "**Many values to multiple variable**"
      ],
      "metadata": {
        "id": "eYooKPY4NAnk"
      }
    },
    {
      "cell_type": "code",
      "source": [
        "x, y, z = \"Orange\", \"Banana\", \"Cherry\"\n",
        "print(x)\n",
        "print(y)\n",
        "print(z)"
      ],
      "metadata": {
        "colab": {
          "base_uri": "https://localhost:8080/"
        },
        "id": "8oSdc8lIM_AG",
        "outputId": "76ecbdfb-3fe9-4a85-eb6a-b532b5bebbba"
      },
      "execution_count": null,
      "outputs": [
        {
          "output_type": "stream",
          "name": "stdout",
          "text": [
            "Orange\n",
            "Banana\n",
            "Cherry\n"
          ]
        }
      ]
    },
    {
      "cell_type": "code",
      "source": [
        "x=y=z= \"Orange\"\n",
        "print(x)\n",
        "print(y)\n",
        "print(z)"
      ],
      "metadata": {
        "colab": {
          "base_uri": "https://localhost:8080/"
        },
        "id": "dSluYn8wNM3d",
        "outputId": "d3b02b1e-8c22-4e9f-88c1-061a7b9b97ed"
      },
      "execution_count": null,
      "outputs": [
        {
          "output_type": "stream",
          "name": "stdout",
          "text": [
            "Orange\n",
            "Orange\n",
            "Orange\n"
          ]
        }
      ]
    },
    {
      "cell_type": "markdown",
      "source": [
        "**Python Output variable**\n",
        "\n",
        "*The Python print () function used to output variable*"
      ],
      "metadata": {
        "id": "C4sfLF5jNV9M"
      }
    },
    {
      "cell_type": "code",
      "source": [
        "x = \"Python\"\n",
        "y = \"is\"\n",
        "z = \"Awesome\"\n",
        "print(x,y,z)"
      ],
      "metadata": {
        "colab": {
          "base_uri": "https://localhost:8080/"
        },
        "id": "giKkd9OWNS2j",
        "outputId": "4bbd7c9a-112a-4882-8ee2-a5939d15cd2a"
      },
      "execution_count": null,
      "outputs": [
        {
          "output_type": "stream",
          "name": "stdout",
          "text": [
            "Python is Awesome\n"
          ]
        }
      ]
    },
    {
      "cell_type": "markdown",
      "source": [
        "# **Data Types in Python**"
      ],
      "metadata": {
        "id": "tVvg8ypSNpgP"
      }
    },
    {
      "cell_type": "markdown",
      "source": [
        "Python has the following data types built-in by default:\n",
        "\n",
        "> **Text Type:** str - “Orange”\n",
        ">\n",
        "\n",
        "> **Numeric Types:** int, float, complex\n",
        ">\n",
        "\n",
        "> **Sequence Types:** list, tuple, range\n",
        ">\n",
        "\n",
        "> **Mapping:** dict\n",
        ">\n",
        "\n",
        "> **Set Types:** set, frozensets\n",
        ">\n",
        "\n",
        "> **Boolean Type:** bool\n",
        ">\n",
        "\n",
        "> **Binary Types:** bytes, bytearray, memoryview\n",
        ">"
      ],
      "metadata": {
        "id": "WRPicusRNwWh"
      }
    },
    {
      "cell_type": "code",
      "source": [
        "x = 2\n",
        "print (x)\n",
        "print (type(x))"
      ],
      "metadata": {
        "colab": {
          "base_uri": "https://localhost:8080/"
        },
        "id": "ryDvjcInNlGU",
        "outputId": "5b4bcb6b-a384-41da-ef78-131ee9e568c3"
      },
      "execution_count": null,
      "outputs": [
        {
          "output_type": "stream",
          "name": "stdout",
          "text": [
            "2\n",
            "<class 'int'>\n"
          ]
        }
      ]
    },
    {
      "cell_type": "code",
      "source": [
        "y = 2.5\n",
        "print (y)\n",
        "print (type(y))"
      ],
      "metadata": {
        "colab": {
          "base_uri": "https://localhost:8080/"
        },
        "id": "BbzOEvRGN-MM",
        "outputId": "9f4b5349-db5f-4880-ea72-285a5b1d09cd"
      },
      "execution_count": null,
      "outputs": [
        {
          "output_type": "stream",
          "name": "stdout",
          "text": [
            "2.5\n",
            "<class 'float'>\n"
          ]
        }
      ]
    },
    {
      "cell_type": "code",
      "source": [
        "z = \"Hello Students\"\n",
        "print (z)\n",
        "print (type(z))"
      ],
      "metadata": {
        "colab": {
          "base_uri": "https://localhost:8080/"
        },
        "id": "DO1Xk8fXOC9W",
        "outputId": "5879c856-1659-474b-bfdb-7f1e0e967776"
      },
      "execution_count": null,
      "outputs": [
        {
          "output_type": "stream",
          "name": "stdout",
          "text": [
            "Hello Students\n",
            "<class 'str'>\n"
          ]
        }
      ]
    },
    {
      "cell_type": "code",
      "source": [
        "a = 2+4j\n",
        "print(a)\n",
        "print(type(a))"
      ],
      "metadata": {
        "colab": {
          "base_uri": "https://localhost:8080/"
        },
        "id": "UHO-vantOJXR",
        "outputId": "83e3f367-91fe-498b-e486-9ee132867962"
      },
      "execution_count": null,
      "outputs": [
        {
          "output_type": "stream",
          "name": "stdout",
          "text": [
            "(2+4j)\n",
            "<class 'complex'>\n"
          ]
        }
      ]
    },
    {
      "cell_type": "code",
      "source": [
        "b = [1,2,3,4]\n",
        "print(b)\n",
        "print(type(b))"
      ],
      "metadata": {
        "colab": {
          "base_uri": "https://localhost:8080/"
        },
        "id": "NhBKOX4sOQUN",
        "outputId": "ba6b8b65-fe0a-429b-a1de-ae741233cf70"
      },
      "execution_count": null,
      "outputs": [
        {
          "output_type": "stream",
          "name": "stdout",
          "text": [
            "[1, 2, 3, 4]\n",
            "<class 'list'>\n"
          ]
        }
      ]
    },
    {
      "cell_type": "code",
      "source": [
        "c = (1,2,3)\n",
        "print(c)\n",
        "print(type(c))"
      ],
      "metadata": {
        "colab": {
          "base_uri": "https://localhost:8080/"
        },
        "id": "B7XETnFiOWJA",
        "outputId": "f2587e1c-518a-4194-c41e-ceb5d22ac876"
      },
      "execution_count": null,
      "outputs": [
        {
          "output_type": "stream",
          "name": "stdout",
          "text": [
            "(1, 2, 3)\n",
            "<class 'tuple'>\n"
          ]
        }
      ]
    },
    {
      "cell_type": "code",
      "source": [
        "d = {1,2,3}\n",
        "print(d)\n",
        "print(type(d))"
      ],
      "metadata": {
        "colab": {
          "base_uri": "https://localhost:8080/"
        },
        "id": "2O7d0_DeOdro",
        "outputId": "8ac83c56-8165-42e7-a08c-6da9414faf28"
      },
      "execution_count": null,
      "outputs": [
        {
          "output_type": "stream",
          "name": "stdout",
          "text": [
            "{1, 2, 3}\n",
            "<class 'set'>\n"
          ]
        }
      ]
    },
    {
      "cell_type": "code",
      "source": [
        "e = {\"a\":1, \"b\":2}\n",
        "print(e)\n",
        "print(type(e))"
      ],
      "metadata": {
        "colab": {
          "base_uri": "https://localhost:8080/"
        },
        "id": "I8Jxqd8qOkWb",
        "outputId": "54ab518b-d8f6-431c-8e53-95f890171971"
      },
      "execution_count": null,
      "outputs": [
        {
          "output_type": "stream",
          "name": "stdout",
          "text": [
            "{'a': 1, 'b': 2}\n",
            "<class 'dict'>\n"
          ]
        }
      ]
    },
    {
      "cell_type": "markdown",
      "source": [
        "*%whos - is a \"magic command\" that displays information about all variables currently defined in the active workspace, including their names, types, and sizes.*"
      ],
      "metadata": {
        "id": "eLk_EtuZO06Q"
      }
    },
    {
      "cell_type": "markdown",
      "source": [
        "# **Operators in Python**"
      ],
      "metadata": {
        "id": "NR0e1x7cO7qS"
      }
    },
    {
      "cell_type": "markdown",
      "source": [
        "*In Python programming, Operators are general symbols used to perform operations on values and variables. They are standard symbols used for logical and arithmetic operations. In this article, we will look into different types of Python operators.*"
      ],
      "metadata": {
        "id": "Dcd4BIWAPTD6"
      }
    },
    {
      "cell_type": "markdown",
      "source": [
        "- **Arithmetic Operators:**\n",
        "\n",
        "Python **Arithmetic operators** are used to perform basic mathematical operations like **addition, subtraction, multiplication** and **division**."
      ],
      "metadata": {
        "id": "CH36al3HPdG4"
      }
    },
    {
      "cell_type": "markdown",
      "source": [
        "\n",
        "\n",
        "*   **Addition**\n",
        "\n",
        "\n"
      ],
      "metadata": {
        "id": "y9EQY2eePuee"
      }
    },
    {
      "cell_type": "code",
      "source": [
        "a = 5\n",
        "b = 3\n",
        "print(a+b)"
      ],
      "metadata": {
        "colab": {
          "base_uri": "https://localhost:8080/"
        },
        "id": "4FScjd1yPtZ2",
        "outputId": "c44bacc2-6623-4248-8f4b-e9c7d47f6a7d"
      },
      "execution_count": null,
      "outputs": [
        {
          "output_type": "stream",
          "name": "stdout",
          "text": [
            "8\n"
          ]
        }
      ]
    },
    {
      "cell_type": "code",
      "source": [
        "a = 5\n",
        "b = 3.4\n",
        "print(a+b)"
      ],
      "metadata": {
        "colab": {
          "base_uri": "https://localhost:8080/"
        },
        "id": "Ze_9XnzqP6LK",
        "outputId": "9ed059a3-cff8-45fb-b5af-2aea0c468ebb"
      },
      "execution_count": null,
      "outputs": [
        {
          "output_type": "stream",
          "name": "stdout",
          "text": [
            "8.4\n"
          ]
        }
      ]
    },
    {
      "cell_type": "code",
      "source": [
        "a = 3+5j\n",
        "c = 3\n",
        "print(a+b)"
      ],
      "metadata": {
        "colab": {
          "base_uri": "https://localhost:8080/"
        },
        "id": "1MipRhAzP9fQ",
        "outputId": "8a6567c2-3d31-400e-e6d4-05aa8e53f48f"
      },
      "execution_count": null,
      "outputs": [
        {
          "output_type": "stream",
          "name": "stdout",
          "text": [
            "(6.4+5j)\n"
          ]
        }
      ]
    },
    {
      "cell_type": "code",
      "source": [
        "a = \"Hello \"\n",
        "b = \"World\"\n",
        "print(a+b)"
      ],
      "metadata": {
        "colab": {
          "base_uri": "https://localhost:8080/"
        },
        "id": "RllU6ApcQDIc",
        "outputId": "181a1ac7-e7c7-4e44-a7bb-0230834a8ded"
      },
      "execution_count": null,
      "outputs": [
        {
          "output_type": "stream",
          "name": "stdout",
          "text": [
            "Hello World\n"
          ]
        }
      ]
    },
    {
      "cell_type": "code",
      "source": [
        "a = 2.34\n",
        "b = 3.456\n",
        "c = 2+7j\n",
        "d = 3\n",
        "e = a+b+c+d\n",
        "print(e)\n",
        "print(type(e))"
      ],
      "metadata": {
        "colab": {
          "base_uri": "https://localhost:8080/"
        },
        "id": "YLQ9e0MVQNRo",
        "outputId": "d40b7e20-1fcf-4c32-d881-8429cc2708a4"
      },
      "execution_count": null,
      "outputs": [
        {
          "output_type": "stream",
          "name": "stdout",
          "text": [
            "(10.796+7j)\n",
            "<class 'complex'>\n"
          ]
        }
      ]
    },
    {
      "cell_type": "markdown",
      "source": [
        "\n",
        "\n",
        "*   **Substraction**\n",
        "\n"
      ],
      "metadata": {
        "id": "VNN06LmaQep4"
      }
    },
    {
      "cell_type": "code",
      "source": [
        "a = 5\n",
        "b = 3\n",
        "print(a-b)"
      ],
      "metadata": {
        "colab": {
          "base_uri": "https://localhost:8080/"
        },
        "id": "U_i5dA5XQbPZ",
        "outputId": "2ad0229b-413f-497a-9564-2d15ef802f30"
      },
      "execution_count": null,
      "outputs": [
        {
          "output_type": "stream",
          "name": "stdout",
          "text": [
            "2\n"
          ]
        }
      ]
    },
    {
      "cell_type": "code",
      "source": [
        "a = 5\n",
        "b = 3.4\n",
        "print(a-b)"
      ],
      "metadata": {
        "colab": {
          "base_uri": "https://localhost:8080/"
        },
        "id": "GXwKaCLyQqT1",
        "outputId": "aa97cfea-9ea4-4175-d37c-629b3604d820"
      },
      "execution_count": null,
      "outputs": [
        {
          "output_type": "stream",
          "name": "stdout",
          "text": [
            "1.6\n"
          ]
        }
      ]
    },
    {
      "cell_type": "code",
      "source": [
        "a = 6\n",
        "b = 18\n",
        "c = a-b\n",
        "print(c)\n",
        "print(type(c))"
      ],
      "metadata": {
        "colab": {
          "base_uri": "https://localhost:8080/"
        },
        "id": "RJOoOqx5QtW0",
        "outputId": "58b60285-41ce-4910-d5ae-465a0b57493f"
      },
      "execution_count": null,
      "outputs": [
        {
          "output_type": "stream",
          "name": "stdout",
          "text": [
            "-12\n",
            "<class 'int'>\n"
          ]
        }
      ]
    },
    {
      "cell_type": "code",
      "source": [
        "x = 12.345\n",
        "y = 890.12\n",
        "print(y-x)"
      ],
      "metadata": {
        "colab": {
          "base_uri": "https://localhost:8080/"
        },
        "id": "iYYstqrSQ2e8",
        "outputId": "3939e503-9697-4b12-aac6-fa56dd0aa878"
      },
      "execution_count": null,
      "outputs": [
        {
          "output_type": "stream",
          "name": "stdout",
          "text": [
            "877.775\n"
          ]
        }
      ]
    },
    {
      "cell_type": "code",
      "source": [
        "a = 12+5j\n",
        "b = 8+3j\n",
        "print(a-b)"
      ],
      "metadata": {
        "colab": {
          "base_uri": "https://localhost:8080/"
        },
        "id": "uZ5c_GEEQ_Gq",
        "outputId": "e3658f93-4105-4395-a2cc-5eec9787fcb8"
      },
      "execution_count": null,
      "outputs": [
        {
          "output_type": "stream",
          "name": "stdout",
          "text": [
            "(4+2j)\n"
          ]
        }
      ]
    },
    {
      "cell_type": "code",
      "source": [
        "a = 112.34\n",
        "b = 2\n",
        "c = 5+2j\n",
        "print((a+b)-c)"
      ],
      "metadata": {
        "colab": {
          "base_uri": "https://localhost:8080/"
        },
        "id": "SVnj5XlGREBd",
        "outputId": "b981180d-1c86-45c2-f573-6fad49325a96"
      },
      "execution_count": null,
      "outputs": [
        {
          "output_type": "stream",
          "name": "stdout",
          "text": [
            "(109.34-2j)\n"
          ]
        }
      ]
    },
    {
      "cell_type": "code",
      "source": [
        "a = \"Hello\"\n",
        "b = \"World\"\n",
        "print(a-b)"
      ],
      "metadata": {
        "colab": {
          "base_uri": "https://localhost:8080/",
          "height": 176
        },
        "id": "OgKKsf0iRKaw",
        "outputId": "2838678e-4f60-4f87-93ee-55e26f4fe863"
      },
      "execution_count": null,
      "outputs": [
        {
          "output_type": "error",
          "ename": "TypeError",
          "evalue": "unsupported operand type(s) for -: 'str' and 'str'",
          "traceback": [
            "\u001b[0;31m---------------------------------------------------------------------------\u001b[0m",
            "\u001b[0;31mTypeError\u001b[0m                                 Traceback (most recent call last)",
            "\u001b[0;32m<ipython-input-32-d43b564893d3>\u001b[0m in \u001b[0;36m<cell line: 0>\u001b[0;34m()\u001b[0m\n\u001b[1;32m      1\u001b[0m \u001b[0ma\u001b[0m \u001b[0;34m=\u001b[0m \u001b[0;34m\"Hello\"\u001b[0m\u001b[0;34m\u001b[0m\u001b[0;34m\u001b[0m\u001b[0m\n\u001b[1;32m      2\u001b[0m \u001b[0mb\u001b[0m \u001b[0;34m=\u001b[0m \u001b[0;34m\"World\"\u001b[0m\u001b[0;34m\u001b[0m\u001b[0;34m\u001b[0m\u001b[0m\n\u001b[0;32m----> 3\u001b[0;31m \u001b[0mprint\u001b[0m\u001b[0;34m(\u001b[0m\u001b[0ma\u001b[0m\u001b[0;34m-\u001b[0m\u001b[0mb\u001b[0m\u001b[0;34m)\u001b[0m\u001b[0;34m\u001b[0m\u001b[0;34m\u001b[0m\u001b[0m\n\u001b[0m",
            "\u001b[0;31mTypeError\u001b[0m: unsupported operand type(s) for -: 'str' and 'str'"
          ]
        }
      ]
    },
    {
      "cell_type": "markdown",
      "source": [
        "\n",
        "\n",
        "*   **Multiplication**\n",
        "\n"
      ],
      "metadata": {
        "id": "MzBOjuAVRXmS"
      }
    },
    {
      "cell_type": "code",
      "source": [
        "a = 10\n",
        "b = 5\n",
        "print(a*b)"
      ],
      "metadata": {
        "colab": {
          "base_uri": "https://localhost:8080/"
        },
        "id": "suBGIa8QRck5",
        "outputId": "3a239523-a3c3-49f2-8b7f-27a5991f2fcf"
      },
      "execution_count": null,
      "outputs": [
        {
          "output_type": "stream",
          "name": "stdout",
          "text": [
            "50\n"
          ]
        }
      ]
    },
    {
      "cell_type": "code",
      "source": [
        "c = 2.345\n",
        "a = 345.678\n",
        "print(c*a)"
      ],
      "metadata": {
        "colab": {
          "base_uri": "https://localhost:8080/"
        },
        "id": "El3j-KQgRSRc",
        "outputId": "a8adc7ab-dba7-4f31-f204-1da0beec88e3"
      },
      "execution_count": null,
      "outputs": [
        {
          "output_type": "stream",
          "name": "stdout",
          "text": [
            "810.61491\n"
          ]
        }
      ]
    },
    {
      "cell_type": "code",
      "source": [
        "x = 2+3j\n",
        "y = 4+5j\n",
        "print(x*y)"
      ],
      "metadata": {
        "colab": {
          "base_uri": "https://localhost:8080/"
        },
        "id": "Q32jtgRJRl2M",
        "outputId": "791e343f-cdab-47de-d3e9-6b910d01c346"
      },
      "execution_count": null,
      "outputs": [
        {
          "output_type": "stream",
          "name": "stdout",
          "text": [
            "(-7+22j)\n"
          ]
        }
      ]
    },
    {
      "cell_type": "code",
      "source": [
        "a = 12\n",
        "b = 3.467\n",
        "c = 2+5j\n",
        "e = a*b*c\n",
        "print(e)\n",
        "print(type(e))"
      ],
      "metadata": {
        "colab": {
          "base_uri": "https://localhost:8080/"
        },
        "id": "h4QVH-_yRsTa",
        "outputId": "377a7801-c7ff-48bf-c530-25521541f605"
      },
      "execution_count": null,
      "outputs": [
        {
          "output_type": "stream",
          "name": "stdout",
          "text": [
            "(83.208+208.01999999999998j)\n",
            "<class 'complex'>\n"
          ]
        }
      ]
    },
    {
      "cell_type": "markdown",
      "source": [
        "\n",
        "\n",
        "*   **Division**\n",
        "\n",
        "\n"
      ],
      "metadata": {
        "id": "TJ-ijX8GSaAq"
      }
    },
    {
      "cell_type": "code",
      "source": [
        "a = 12\n",
        "b = 4\n",
        "print (a/b)"
      ],
      "metadata": {
        "colab": {
          "base_uri": "https://localhost:8080/"
        },
        "id": "Cc51RfJnSfK4",
        "outputId": "4fc63574-8567-41b3-82d8-5e71a4efff43"
      },
      "execution_count": null,
      "outputs": [
        {
          "output_type": "stream",
          "name": "stdout",
          "text": [
            "3.0\n"
          ]
        }
      ]
    },
    {
      "cell_type": "code",
      "source": [
        "a = 12.5689\n",
        "b = 2.35684\n",
        "print(a/b)"
      ],
      "metadata": {
        "colab": {
          "base_uri": "https://localhost:8080/"
        },
        "id": "142X7QD9SjMn",
        "outputId": "909880f1-4e12-490b-ca2b-4173e5696a82"
      },
      "execution_count": null,
      "outputs": [
        {
          "output_type": "stream",
          "name": "stdout",
          "text": [
            "5.332945808794826\n"
          ]
        }
      ]
    },
    {
      "cell_type": "code",
      "source": [
        "a = 6+9j\n",
        "c = 3\n",
        "print(a/c)"
      ],
      "metadata": {
        "colab": {
          "base_uri": "https://localhost:8080/"
        },
        "id": "WNJPqDmXSndX",
        "outputId": "9b2e3d67-e96c-4db0-f3a2-cd6c56ac233f"
      },
      "execution_count": null,
      "outputs": [
        {
          "output_type": "stream",
          "name": "stdout",
          "text": [
            "(2+3j)\n"
          ]
        }
      ]
    },
    {
      "cell_type": "code",
      "source": [
        "a = 12\n",
        "b = 3\n",
        "c = 12+15j\n",
        "d = (a/b)\n",
        "print(c/d)"
      ],
      "metadata": {
        "colab": {
          "base_uri": "https://localhost:8080/"
        },
        "id": "cAIdiFfqSr6n",
        "outputId": "5e5c0b59-2f13-4024-826d-40431831ef89"
      },
      "execution_count": null,
      "outputs": [
        {
          "output_type": "stream",
          "name": "stdout",
          "text": [
            "(3+3.75j)\n"
          ]
        }
      ]
    },
    {
      "cell_type": "markdown",
      "source": [
        "\n",
        "\n",
        "*  **Modulous**\n",
        "\n"
      ],
      "metadata": {
        "id": "v2Vw4EyuS6jE"
      }
    },
    {
      "cell_type": "code",
      "source": [
        "a = 12\n",
        "b = 3\n",
        "print(a%b)"
      ],
      "metadata": {
        "colab": {
          "base_uri": "https://localhost:8080/"
        },
        "id": "3llAQbtGS2ks",
        "outputId": "42b5601b-4c36-46b0-989c-e6ffeeba45e2"
      },
      "execution_count": null,
      "outputs": [
        {
          "output_type": "stream",
          "name": "stdout",
          "text": [
            "0\n"
          ]
        }
      ]
    },
    {
      "cell_type": "code",
      "source": [
        "a = 19\n",
        "b = 3\n",
        "print(a%b)"
      ],
      "metadata": {
        "colab": {
          "base_uri": "https://localhost:8080/"
        },
        "id": "All1Rm2KTBIE",
        "outputId": "c5198a8c-dc6a-4961-bd4b-7b16aaeb66ad"
      },
      "execution_count": null,
      "outputs": [
        {
          "output_type": "stream",
          "name": "stdout",
          "text": [
            "1\n"
          ]
        }
      ]
    },
    {
      "cell_type": "code",
      "source": [
        "b = 5.36\n",
        "c = 2.8\n",
        "print(b%c)"
      ],
      "metadata": {
        "colab": {
          "base_uri": "https://localhost:8080/"
        },
        "id": "lAUBu0n-TF9l",
        "outputId": "670b5217-7236-4884-ff8b-4b7d35a7261d"
      },
      "execution_count": null,
      "outputs": [
        {
          "output_type": "stream",
          "name": "stdout",
          "text": [
            "2.5600000000000005\n"
          ]
        }
      ]
    },
    {
      "cell_type": "code",
      "source": [
        "b = 12+36j\n",
        "c = 3\n",
        "print(b%c)"
      ],
      "metadata": {
        "colab": {
          "base_uri": "https://localhost:8080/",
          "height": 176
        },
        "id": "yQ3nPzgtTJ7v",
        "outputId": "b0b884f8-122f-4a90-c3d0-7747303d5652"
      },
      "execution_count": null,
      "outputs": [
        {
          "output_type": "error",
          "ename": "TypeError",
          "evalue": "unsupported operand type(s) for %: 'complex' and 'int'",
          "traceback": [
            "\u001b[0;31m---------------------------------------------------------------------------\u001b[0m",
            "\u001b[0;31mTypeError\u001b[0m                                 Traceback (most recent call last)",
            "\u001b[0;32m<ipython-input-44-e7e422e20ec3>\u001b[0m in \u001b[0;36m<cell line: 0>\u001b[0;34m()\u001b[0m\n\u001b[1;32m      1\u001b[0m \u001b[0mb\u001b[0m \u001b[0;34m=\u001b[0m \u001b[0;36m12\u001b[0m\u001b[0;34m+\u001b[0m\u001b[0;36m36j\u001b[0m\u001b[0;34m\u001b[0m\u001b[0;34m\u001b[0m\u001b[0m\n\u001b[1;32m      2\u001b[0m \u001b[0mc\u001b[0m \u001b[0;34m=\u001b[0m \u001b[0;36m3\u001b[0m\u001b[0;34m\u001b[0m\u001b[0;34m\u001b[0m\u001b[0m\n\u001b[0;32m----> 3\u001b[0;31m \u001b[0mprint\u001b[0m\u001b[0;34m(\u001b[0m\u001b[0mb\u001b[0m\u001b[0;34m%\u001b[0m\u001b[0mc\u001b[0m\u001b[0;34m)\u001b[0m\u001b[0;34m\u001b[0m\u001b[0;34m\u001b[0m\u001b[0m\n\u001b[0m",
            "\u001b[0;31mTypeError\u001b[0m: unsupported operand type(s) for %: 'complex' and 'int'"
          ]
        }
      ]
    },
    {
      "cell_type": "code",
      "source": [
        "%whos"
      ],
      "metadata": {
        "colab": {
          "base_uri": "https://localhost:8080/"
        },
        "id": "p7vtRnf0TboK",
        "outputId": "d055ba01-e7b2-4eb1-ec6f-647f06ea0979"
      },
      "execution_count": null,
      "outputs": [
        {
          "output_type": "stream",
          "name": "stdout",
          "text": [
            "Variable   Type       Data/Info\n",
            "-------------------------------\n",
            "a          int        19\n",
            "b          complex    (12+36j)\n",
            "c          int        3\n",
            "d          float      4.0\n",
            "e          complex    (83.208+208.01999999999998j)\n",
            "x          complex    (2+3j)\n",
            "y          complex    (4+5j)\n",
            "z          str        Hello Students\n"
          ]
        }
      ]
    },
    {
      "cell_type": "markdown",
      "source": [
        "\n",
        "\n",
        "*   **Exponent**\n",
        "\n",
        "\n",
        "\n"
      ],
      "metadata": {
        "id": "8YTMes63TlNA"
      }
    },
    {
      "cell_type": "code",
      "source": [
        "a = 4\n",
        "print(a**3)"
      ],
      "metadata": {
        "colab": {
          "base_uri": "https://localhost:8080/"
        },
        "id": "Sh7hcLlwTj97",
        "outputId": "5a05b655-91a1-46aa-cab0-c6cd74af9287"
      },
      "execution_count": null,
      "outputs": [
        {
          "output_type": "stream",
          "name": "stdout",
          "text": [
            "64\n"
          ]
        }
      ]
    },
    {
      "cell_type": "code",
      "source": [
        "a = 12.56\n",
        "print(a**6)"
      ],
      "metadata": {
        "colab": {
          "base_uri": "https://localhost:8080/"
        },
        "id": "pDW5OYMCTvKI",
        "outputId": "a4eb1094-330b-4de0-a934-c8a7164833de"
      },
      "execution_count": null,
      "outputs": [
        {
          "output_type": "stream",
          "name": "stdout",
          "text": [
            "3925887.3741833675\n"
          ]
        }
      ]
    },
    {
      "cell_type": "code",
      "source": [
        "a = True\n",
        "b = False\n",
        "print(type(a))\n",
        "print(type(b))"
      ],
      "metadata": {
        "colab": {
          "base_uri": "https://localhost:8080/"
        },
        "id": "-Tc4ScsjTx8k",
        "outputId": "c435e95c-8c6e-4146-a845-95a2ea6cf2e1"
      },
      "execution_count": null,
      "outputs": [
        {
          "output_type": "stream",
          "name": "stdout",
          "text": [
            "<class 'bool'>\n",
            "<class 'bool'>\n"
          ]
        }
      ]
    },
    {
      "cell_type": "code",
      "source": [
        "print(a and b)"
      ],
      "metadata": {
        "colab": {
          "base_uri": "https://localhost:8080/"
        },
        "id": "X7WBy1umT5G0",
        "outputId": "1b92240e-bda9-4d1c-f70a-f717fbd8cea7"
      },
      "execution_count": null,
      "outputs": [
        {
          "output_type": "stream",
          "name": "stdout",
          "text": [
            "False\n"
          ]
        }
      ]
    },
    {
      "cell_type": "code",
      "source": [
        "print (a or b)"
      ],
      "metadata": {
        "colab": {
          "base_uri": "https://localhost:8080/"
        },
        "id": "BlY0GPQbT8O-",
        "outputId": "d02af252-b4e6-4090-fc10-841a9e3325aa"
      },
      "execution_count": null,
      "outputs": [
        {
          "output_type": "stream",
          "name": "stdout",
          "text": [
            "True\n"
          ]
        }
      ]
    },
    {
      "cell_type": "code",
      "source": [
        "print(not(a))"
      ],
      "metadata": {
        "colab": {
          "base_uri": "https://localhost:8080/"
        },
        "id": "iSQO6OtaUHnS",
        "outputId": "57f4540b-f114-4d46-a8cc-f00c061eec31"
      },
      "execution_count": null,
      "outputs": [
        {
          "output_type": "stream",
          "name": "stdout",
          "text": [
            "False\n"
          ]
        }
      ]
    },
    {
      "cell_type": "markdown",
      "source": [
        "**Q. Find the area of rectangle with Length = 12cm and Breadth = 6cm**"
      ],
      "metadata": {
        "id": "ZFCJDj6vUMhm"
      }
    },
    {
      "cell_type": "code",
      "source": [
        "length = 12\n",
        "print(\"The length of the rectangle is 12cm\")\n",
        "breadth = 6\n",
        "print(\"the breadth of the rectangle is 6 cm\")\n",
        "area = (length * breadth)\n",
        "print(\"The are of the rectangle is \", area)"
      ],
      "metadata": {
        "colab": {
          "base_uri": "https://localhost:8080/"
        },
        "id": "0dBPz3zUUJYY",
        "outputId": "f5557508-bb83-4a56-bbda-e1e06d8ceaee"
      },
      "execution_count": null,
      "outputs": [
        {
          "output_type": "stream",
          "name": "stdout",
          "text": [
            "The length of the rectangle is 12cm\n",
            "the breadth of the rectangle is 6 cm\n",
            "The are of the rectangle is  72\n"
          ]
        }
      ]
    },
    {
      "cell_type": "code",
      "source": [
        "#Solve the equation\n",
        "x = ((234.678 * 89/6) - (745.23**2) + (87.23**45.6))\n",
        "print(x)"
      ],
      "metadata": {
        "colab": {
          "base_uri": "https://localhost:8080/"
        },
        "id": "7eAOuuZXVCep",
        "outputId": "a1535312-c3e3-43ab-db48-5c26fb97714c"
      },
      "execution_count": null,
      "outputs": [
        {
          "output_type": "stream",
          "name": "stdout",
          "text": [
            "3.1215032029794266e+88\n"
          ]
        }
      ]
    },
    {
      "cell_type": "markdown",
      "source": [
        "# **Python Day 3**"
      ],
      "metadata": {
        "id": "sf4vsg0Tn6gC"
      }
    },
    {
      "cell_type": "markdown",
      "source": [
        "### **Built-in Functions:**\n",
        "\n",
        "*The Python interpreter has a number of functions that are always available for use. These functions are called built-in functions. For Example, the print( ) function prints the given object to the standard output device (screen) or to the text stream file.*\n",
        "\n",
        "***There are a total of 68 built-in function***"
      ],
      "metadata": {
        "id": "GdyfNJzzoFwC"
      }
    },
    {
      "cell_type": "markdown",
      "source": [
        "\n",
        "*   **abs ( )** — *Absolute function Returns\n",
        "\n",
        "the absolute value of a number. The argument may be an integer, a floating-point number, or an object implementing*"
      ],
      "metadata": {
        "id": "njze8QS_q_vF"
      }
    },
    {
      "cell_type": "code",
      "source": [
        "x = abs(-7.25)\n",
        "print(x)"
      ],
      "metadata": {
        "colab": {
          "base_uri": "https://localhost:8080/"
        },
        "id": "bOnLv1PToY85",
        "outputId": "91cb7f59-3e2d-4c79-fe45-328a024927d9"
      },
      "execution_count": null,
      "outputs": [
        {
          "output_type": "stream",
          "name": "stdout",
          "text": [
            "7.25\n"
          ]
        }
      ]
    },
    {
      "cell_type": "code",
      "source": [
        "y = abs(-8)\n",
        "print(y)"
      ],
      "metadata": {
        "colab": {
          "base_uri": "https://localhost:8080/"
        },
        "id": "RVv0WvZMrHgH",
        "outputId": "ddf8f9a9-3dc2-40b0-d452-46689c1d76c8"
      },
      "execution_count": null,
      "outputs": [
        {
          "output_type": "stream",
          "name": "stdout",
          "text": [
            "8\n"
          ]
        }
      ]
    },
    {
      "cell_type": "code",
      "source": [
        "x = abs(3+5j)\n",
        "print (x)"
      ],
      "metadata": {
        "colab": {
          "base_uri": "https://localhost:8080/"
        },
        "id": "gT9eIp9ZrNbj",
        "outputId": "9e1e31de-b1c2-4477-a5fc-a5d784a85134"
      },
      "execution_count": null,
      "outputs": [
        {
          "output_type": "stream",
          "name": "stdout",
          "text": [
            "5.830951894845301\n"
          ]
        }
      ]
    },
    {
      "cell_type": "markdown",
      "source": [
        "\n",
        "**Bin( )**\n",
        "\n",
        "*Binary Function Convert an integer number to a binary string prefixed with “0b”.*\n",
        "\n"
      ],
      "metadata": {
        "id": "sI8TC1L-raIR"
      }
    },
    {
      "cell_type": "code",
      "source": [
        "x = bin(10)\n",
        "print (x)"
      ],
      "metadata": {
        "colab": {
          "base_uri": "https://localhost:8080/"
        },
        "id": "eGrYi4dfrRuX",
        "outputId": "303f53eb-a77c-4050-d1dc-5cab3cbeb43a"
      },
      "execution_count": null,
      "outputs": [
        {
          "output_type": "stream",
          "name": "stdout",
          "text": [
            "0b1010\n"
          ]
        }
      ]
    },
    {
      "cell_type": "code",
      "source": [
        "y = bin(36)\n",
        "print(y)"
      ],
      "metadata": {
        "colab": {
          "base_uri": "https://localhost:8080/"
        },
        "id": "3Lp6j_MKr8oJ",
        "outputId": "6249c912-5fdc-48f8-93d2-b59fdf202eb4"
      },
      "execution_count": null,
      "outputs": [
        {
          "output_type": "stream",
          "name": "stdout",
          "text": [
            "0b100100\n"
          ]
        }
      ]
    },
    {
      "cell_type": "code",
      "source": [
        "z = bin(56)\n",
        "print(z)"
      ],
      "metadata": {
        "colab": {
          "base_uri": "https://localhost:8080/"
        },
        "id": "LHlpW9Hmr_l-",
        "outputId": "bc5dcdf5-cba0-4e5c-db25-a0e2da15736e"
      },
      "execution_count": null,
      "outputs": [
        {
          "output_type": "stream",
          "name": "stdout",
          "text": [
            "0b111000\n"
          ]
        }
      ]
    },
    {
      "cell_type": "markdown",
      "source": [
        "**bytes( )**\n",
        "\n",
        "*Return a new “bytes” object which is an immutable sequence of integers in the range 0 <= x < 256.*"
      ],
      "metadata": {
        "id": "51pvi-9NsHHE"
      }
    },
    {
      "cell_type": "code",
      "source": [
        "x = bytes(4)\n",
        "print(x)"
      ],
      "metadata": {
        "colab": {
          "base_uri": "https://localhost:8080/"
        },
        "id": "Xxh9dXl9sDZ4",
        "outputId": "0c49b515-a904-4eff-e1a2-18a8a4f5ec8a"
      },
      "execution_count": null,
      "outputs": [
        {
          "output_type": "stream",
          "name": "stdout",
          "text": [
            "b'\\x00\\x00\\x00\\x00'\n"
          ]
        }
      ]
    },
    {
      "cell_type": "code",
      "source": [
        "y = bytes(16)\n",
        "print(y)"
      ],
      "metadata": {
        "colab": {
          "base_uri": "https://localhost:8080/"
        },
        "id": "nAwpx9mKsSmP",
        "outputId": "5fd6b071-5224-4919-f315-15c83ad58c1e"
      },
      "execution_count": null,
      "outputs": [
        {
          "output_type": "stream",
          "name": "stdout",
          "text": [
            "b'\\x00\\x00\\x00\\x00\\x00\\x00\\x00\\x00\\x00\\x00\\x00\\x00\\x00\\x00\\x00\\x00'\n"
          ]
        }
      ]
    },
    {
      "cell_type": "markdown",
      "source": [
        "**chr( )**\n",
        "\n",
        "*Character Function Return the string representing a character whose Unicode code point is the integer i. *"
      ],
      "metadata": {
        "id": "5vA-9lImsaVp"
      }
    },
    {
      "cell_type": "code",
      "source": [
        "x = chr(97)\n",
        "print(x)"
      ],
      "metadata": {
        "colab": {
          "base_uri": "https://localhost:8080/"
        },
        "id": "rq2fUXs-sWsY",
        "outputId": "a2be3c00-df39-4605-dbda-a3e2b508fb21"
      },
      "execution_count": null,
      "outputs": [
        {
          "output_type": "stream",
          "name": "stdout",
          "text": [
            "a\n"
          ]
        }
      ]
    },
    {
      "cell_type": "code",
      "source": [
        "x = chr(98)\n",
        "print(x)"
      ],
      "metadata": {
        "colab": {
          "base_uri": "https://localhost:8080/"
        },
        "id": "_PEGq8e3sjmu",
        "outputId": "de73b048-5be3-457d-fca0-3ebe117099ad"
      },
      "execution_count": null,
      "outputs": [
        {
          "output_type": "stream",
          "name": "stdout",
          "text": [
            "b\n"
          ]
        }
      ]
    },
    {
      "cell_type": "code",
      "source": [
        "x = chr(99)\n",
        "print(x)"
      ],
      "metadata": {
        "colab": {
          "base_uri": "https://localhost:8080/"
        },
        "id": "Rd4_0DeesoLE",
        "outputId": "1a994727-f3e3-4f08-a1a1-a86c845e2f34"
      },
      "execution_count": null,
      "outputs": [
        {
          "output_type": "stream",
          "name": "stdout",
          "text": [
            "c\n"
          ]
        }
      ]
    },
    {
      "cell_type": "markdown",
      "source": [
        "**complex( )**\n",
        "\n",
        "*Complex Function Convert a single string or number to a complex number, or create a complex number from real and imaginary parts.*"
      ],
      "metadata": {
        "id": "-MfUORe5swTC"
      }
    },
    {
      "cell_type": "code",
      "source": [
        "x = complex(3, 5)\n",
        "print(x)"
      ],
      "metadata": {
        "colab": {
          "base_uri": "https://localhost:8080/"
        },
        "id": "BB_OGHx5stZx",
        "outputId": "7a807ba7-4ecc-4955-d748-b60afd4aae82"
      },
      "execution_count": null,
      "outputs": [
        {
          "output_type": "stream",
          "name": "stdout",
          "text": [
            "(3+5j)\n"
          ]
        }
      ]
    },
    {
      "cell_type": "code",
      "source": [
        "y = complex(2.5, 3.96)\n",
        "print(y)"
      ],
      "metadata": {
        "colab": {
          "base_uri": "https://localhost:8080/"
        },
        "id": "sA9HdPSTs55x",
        "outputId": "453b2576-4d46-47a6-99cc-e0ef983b8d45"
      },
      "execution_count": null,
      "outputs": [
        {
          "output_type": "stream",
          "name": "stdout",
          "text": [
            "(2.5+3.96j)\n"
          ]
        }
      ]
    },
    {
      "cell_type": "code",
      "source": [
        "x = complex('3+5j')\n",
        "print(x)"
      ],
      "metadata": {
        "colab": {
          "base_uri": "https://localhost:8080/"
        },
        "id": "Lgjv9oeks97Z",
        "outputId": "dd69656d-72f9-4d19-fcd5-c24cb07eb22c"
      },
      "execution_count": null,
      "outputs": [
        {
          "output_type": "stream",
          "name": "stdout",
          "text": [
            "(3+5j)\n"
          ]
        }
      ]
    },
    {
      "cell_type": "code",
      "source": [
        "x = complex('2')\n",
        "print(x)"
      ],
      "metadata": {
        "colab": {
          "base_uri": "https://localhost:8080/"
        },
        "id": "QvFHDPoptCu1",
        "outputId": "35aa518c-d8b2-4496-b28a-5cc21f8c3f5d"
      },
      "execution_count": null,
      "outputs": [
        {
          "output_type": "stream",
          "name": "stdout",
          "text": [
            "(2+0j)\n"
          ]
        }
      ]
    },
    {
      "cell_type": "markdown",
      "source": [
        "**float( )**\n",
        "\n",
        "*Return a floating-point number constructed from a number or a string.*"
      ],
      "metadata": {
        "id": "fjZ15TK-tK3r"
      }
    },
    {
      "cell_type": "code",
      "source": [
        "x = float(3)\n",
        "print(x)"
      ],
      "metadata": {
        "colab": {
          "base_uri": "https://localhost:8080/"
        },
        "id": "OnL1V0fMtGac",
        "outputId": "08c0aba4-19f8-4648-b2b4-c3736dd425a3"
      },
      "execution_count": null,
      "outputs": [
        {
          "output_type": "stream",
          "name": "stdout",
          "text": [
            "3.0\n"
          ]
        }
      ]
    },
    {
      "cell_type": "code",
      "source": [
        "y = float(\"3.500\")\n",
        "print(y)"
      ],
      "metadata": {
        "colab": {
          "base_uri": "https://localhost:8080/"
        },
        "id": "NsqZlQh0tQ9P",
        "outputId": "1dce5de1-82d6-4be5-b29b-47d7bb8e53b7"
      },
      "execution_count": null,
      "outputs": [
        {
          "output_type": "stream",
          "name": "stdout",
          "text": [
            "3.5\n"
          ]
        }
      ]
    },
    {
      "cell_type": "markdown",
      "source": [
        "**int( )**\n",
        "\n",
        "*Return an integer object constructed from a number or a string, or return 0 if no arguments are given.*"
      ],
      "metadata": {
        "id": "W8tY5JZAtcZa"
      }
    },
    {
      "cell_type": "code",
      "source": [
        "x = int(\"12\")\n",
        "print(x)"
      ],
      "metadata": {
        "colab": {
          "base_uri": "https://localhost:8080/"
        },
        "id": "2kazP8sstU16",
        "outputId": "44010048-1b1c-467e-d431-f60ff052807b"
      },
      "execution_count": null,
      "outputs": [
        {
          "output_type": "stream",
          "name": "stdout",
          "text": [
            "12\n"
          ]
        }
      ]
    },
    {
      "cell_type": "markdown",
      "source": [
        "**str( )**\n",
        "\n",
        "*Return a str version of object.*"
      ],
      "metadata": {
        "id": "go-Sut-gtupP"
      }
    },
    {
      "cell_type": "code",
      "source": [
        "a = str(\"2568\")\n",
        "print(a)\n",
        "print(type(a))"
      ],
      "metadata": {
        "colab": {
          "base_uri": "https://localhost:8080/"
        },
        "id": "lynzRh3ptmg9",
        "outputId": "6e2eea5f-d898-4a15-d6ae-02093b64687e"
      },
      "execution_count": null,
      "outputs": [
        {
          "output_type": "stream",
          "name": "stdout",
          "text": [
            "2568\n",
            "<class 'str'>\n"
          ]
        }
      ]
    },
    {
      "cell_type": "markdown",
      "source": [
        "### **Help function in python**"
      ],
      "metadata": {
        "id": "sOx8ORjZt9Y7"
      }
    },
    {
      "cell_type": "markdown",
      "source": [
        "*The Python help function is used to display the documentation of modules, functions, classes, and keywords.*"
      ],
      "metadata": {
        "id": "xEv26Eg8uDHp"
      }
    },
    {
      "cell_type": "code",
      "source": [
        "help(print)"
      ],
      "metadata": {
        "colab": {
          "base_uri": "https://localhost:8080/"
        },
        "id": "QKrQBWDxt5Xr",
        "outputId": "e94e7880-d70c-4ae5-cd47-4aa42909c1e1"
      },
      "execution_count": null,
      "outputs": [
        {
          "output_type": "stream",
          "name": "stdout",
          "text": [
            "Help on built-in function print in module builtins:\n",
            "\n",
            "print(*args, sep=' ', end='\\n', file=None, flush=False)\n",
            "    Prints the values to a stream, or to sys.stdout by default.\n",
            "    \n",
            "    sep\n",
            "      string inserted between values, default a space.\n",
            "    end\n",
            "      string appended after the last value, default a newline.\n",
            "    file\n",
            "      a file-like object (stream); defaults to the current sys.stdout.\n",
            "    flush\n",
            "      whether to forcibly flush the stream.\n",
            "\n"
          ]
        }
      ]
    },
    {
      "cell_type": "code",
      "source": [
        "help(str)"
      ],
      "metadata": {
        "colab": {
          "base_uri": "https://localhost:8080/"
        },
        "id": "O0buOEq0uP8_",
        "outputId": "754a64b9-f96f-43ea-b8da-b4941816bfff"
      },
      "execution_count": null,
      "outputs": [
        {
          "output_type": "stream",
          "name": "stdout",
          "text": [
            "Help on class str in module builtins:\n",
            "\n",
            "class str(object)\n",
            " |  str(object='') -> str\n",
            " |  str(bytes_or_buffer[, encoding[, errors]]) -> str\n",
            " |  \n",
            " |  Create a new string object from the given object. If encoding or\n",
            " |  errors is specified, then the object must expose a data buffer\n",
            " |  that will be decoded using the given encoding and error handler.\n",
            " |  Otherwise, returns the result of object.__str__() (if defined)\n",
            " |  or repr(object).\n",
            " |  encoding defaults to sys.getdefaultencoding().\n",
            " |  errors defaults to 'strict'.\n",
            " |  \n",
            " |  Methods defined here:\n",
            " |  \n",
            " |  __add__(self, value, /)\n",
            " |      Return self+value.\n",
            " |  \n",
            " |  __contains__(self, key, /)\n",
            " |      Return key in self.\n",
            " |  \n",
            " |  __eq__(self, value, /)\n",
            " |      Return self==value.\n",
            " |  \n",
            " |  __format__(self, format_spec, /)\n",
            " |      Return a formatted version of the string as described by format_spec.\n",
            " |  \n",
            " |  __ge__(self, value, /)\n",
            " |      Return self>=value.\n",
            " |  \n",
            " |  __getattribute__(self, name, /)\n",
            " |      Return getattr(self, name).\n",
            " |  \n",
            " |  __getitem__(self, key, /)\n",
            " |      Return self[key].\n",
            " |  \n",
            " |  __getnewargs__(...)\n",
            " |  \n",
            " |  __gt__(self, value, /)\n",
            " |      Return self>value.\n",
            " |  \n",
            " |  __hash__(self, /)\n",
            " |      Return hash(self).\n",
            " |  \n",
            " |  __iter__(self, /)\n",
            " |      Implement iter(self).\n",
            " |  \n",
            " |  __le__(self, value, /)\n",
            " |      Return self<=value.\n",
            " |  \n",
            " |  __len__(self, /)\n",
            " |      Return len(self).\n",
            " |  \n",
            " |  __lt__(self, value, /)\n",
            " |      Return self<value.\n",
            " |  \n",
            " |  __mod__(self, value, /)\n",
            " |      Return self%value.\n",
            " |  \n",
            " |  __mul__(self, value, /)\n",
            " |      Return self*value.\n",
            " |  \n",
            " |  __ne__(self, value, /)\n",
            " |      Return self!=value.\n",
            " |  \n",
            " |  __repr__(self, /)\n",
            " |      Return repr(self).\n",
            " |  \n",
            " |  __rmod__(self, value, /)\n",
            " |      Return value%self.\n",
            " |  \n",
            " |  __rmul__(self, value, /)\n",
            " |      Return value*self.\n",
            " |  \n",
            " |  __sizeof__(self, /)\n",
            " |      Return the size of the string in memory, in bytes.\n",
            " |  \n",
            " |  __str__(self, /)\n",
            " |      Return str(self).\n",
            " |  \n",
            " |  capitalize(self, /)\n",
            " |      Return a capitalized version of the string.\n",
            " |      \n",
            " |      More specifically, make the first character have upper case and the rest lower\n",
            " |      case.\n",
            " |  \n",
            " |  casefold(self, /)\n",
            " |      Return a version of the string suitable for caseless comparisons.\n",
            " |  \n",
            " |  center(self, width, fillchar=' ', /)\n",
            " |      Return a centered string of length width.\n",
            " |      \n",
            " |      Padding is done using the specified fill character (default is a space).\n",
            " |  \n",
            " |  count(...)\n",
            " |      S.count(sub[, start[, end]]) -> int\n",
            " |      \n",
            " |      Return the number of non-overlapping occurrences of substring sub in\n",
            " |      string S[start:end].  Optional arguments start and end are\n",
            " |      interpreted as in slice notation.\n",
            " |  \n",
            " |  encode(self, /, encoding='utf-8', errors='strict')\n",
            " |      Encode the string using the codec registered for encoding.\n",
            " |      \n",
            " |      encoding\n",
            " |        The encoding in which to encode the string.\n",
            " |      errors\n",
            " |        The error handling scheme to use for encoding errors.\n",
            " |        The default is 'strict' meaning that encoding errors raise a\n",
            " |        UnicodeEncodeError.  Other possible values are 'ignore', 'replace' and\n",
            " |        'xmlcharrefreplace' as well as any other name registered with\n",
            " |        codecs.register_error that can handle UnicodeEncodeErrors.\n",
            " |  \n",
            " |  endswith(...)\n",
            " |      S.endswith(suffix[, start[, end]]) -> bool\n",
            " |      \n",
            " |      Return True if S ends with the specified suffix, False otherwise.\n",
            " |      With optional start, test S beginning at that position.\n",
            " |      With optional end, stop comparing S at that position.\n",
            " |      suffix can also be a tuple of strings to try.\n",
            " |  \n",
            " |  expandtabs(self, /, tabsize=8)\n",
            " |      Return a copy where all tab characters are expanded using spaces.\n",
            " |      \n",
            " |      If tabsize is not given, a tab size of 8 characters is assumed.\n",
            " |  \n",
            " |  find(...)\n",
            " |      S.find(sub[, start[, end]]) -> int\n",
            " |      \n",
            " |      Return the lowest index in S where substring sub is found,\n",
            " |      such that sub is contained within S[start:end].  Optional\n",
            " |      arguments start and end are interpreted as in slice notation.\n",
            " |      \n",
            " |      Return -1 on failure.\n",
            " |  \n",
            " |  format(...)\n",
            " |      S.format(*args, **kwargs) -> str\n",
            " |      \n",
            " |      Return a formatted version of S, using substitutions from args and kwargs.\n",
            " |      The substitutions are identified by braces ('{' and '}').\n",
            " |  \n",
            " |  format_map(...)\n",
            " |      S.format_map(mapping) -> str\n",
            " |      \n",
            " |      Return a formatted version of S, using substitutions from mapping.\n",
            " |      The substitutions are identified by braces ('{' and '}').\n",
            " |  \n",
            " |  index(...)\n",
            " |      S.index(sub[, start[, end]]) -> int\n",
            " |      \n",
            " |      Return the lowest index in S where substring sub is found,\n",
            " |      such that sub is contained within S[start:end].  Optional\n",
            " |      arguments start and end are interpreted as in slice notation.\n",
            " |      \n",
            " |      Raises ValueError when the substring is not found.\n",
            " |  \n",
            " |  isalnum(self, /)\n",
            " |      Return True if the string is an alpha-numeric string, False otherwise.\n",
            " |      \n",
            " |      A string is alpha-numeric if all characters in the string are alpha-numeric and\n",
            " |      there is at least one character in the string.\n",
            " |  \n",
            " |  isalpha(self, /)\n",
            " |      Return True if the string is an alphabetic string, False otherwise.\n",
            " |      \n",
            " |      A string is alphabetic if all characters in the string are alphabetic and there\n",
            " |      is at least one character in the string.\n",
            " |  \n",
            " |  isascii(self, /)\n",
            " |      Return True if all characters in the string are ASCII, False otherwise.\n",
            " |      \n",
            " |      ASCII characters have code points in the range U+0000-U+007F.\n",
            " |      Empty string is ASCII too.\n",
            " |  \n",
            " |  isdecimal(self, /)\n",
            " |      Return True if the string is a decimal string, False otherwise.\n",
            " |      \n",
            " |      A string is a decimal string if all characters in the string are decimal and\n",
            " |      there is at least one character in the string.\n",
            " |  \n",
            " |  isdigit(self, /)\n",
            " |      Return True if the string is a digit string, False otherwise.\n",
            " |      \n",
            " |      A string is a digit string if all characters in the string are digits and there\n",
            " |      is at least one character in the string.\n",
            " |  \n",
            " |  isidentifier(self, /)\n",
            " |      Return True if the string is a valid Python identifier, False otherwise.\n",
            " |      \n",
            " |      Call keyword.iskeyword(s) to test whether string s is a reserved identifier,\n",
            " |      such as \"def\" or \"class\".\n",
            " |  \n",
            " |  islower(self, /)\n",
            " |      Return True if the string is a lowercase string, False otherwise.\n",
            " |      \n",
            " |      A string is lowercase if all cased characters in the string are lowercase and\n",
            " |      there is at least one cased character in the string.\n",
            " |  \n",
            " |  isnumeric(self, /)\n",
            " |      Return True if the string is a numeric string, False otherwise.\n",
            " |      \n",
            " |      A string is numeric if all characters in the string are numeric and there is at\n",
            " |      least one character in the string.\n",
            " |  \n",
            " |  isprintable(self, /)\n",
            " |      Return True if the string is printable, False otherwise.\n",
            " |      \n",
            " |      A string is printable if all of its characters are considered printable in\n",
            " |      repr() or if it is empty.\n",
            " |  \n",
            " |  isspace(self, /)\n",
            " |      Return True if the string is a whitespace string, False otherwise.\n",
            " |      \n",
            " |      A string is whitespace if all characters in the string are whitespace and there\n",
            " |      is at least one character in the string.\n",
            " |  \n",
            " |  istitle(self, /)\n",
            " |      Return True if the string is a title-cased string, False otherwise.\n",
            " |      \n",
            " |      In a title-cased string, upper- and title-case characters may only\n",
            " |      follow uncased characters and lowercase characters only cased ones.\n",
            " |  \n",
            " |  isupper(self, /)\n",
            " |      Return True if the string is an uppercase string, False otherwise.\n",
            " |      \n",
            " |      A string is uppercase if all cased characters in the string are uppercase and\n",
            " |      there is at least one cased character in the string.\n",
            " |  \n",
            " |  join(self, iterable, /)\n",
            " |      Concatenate any number of strings.\n",
            " |      \n",
            " |      The string whose method is called is inserted in between each given string.\n",
            " |      The result is returned as a new string.\n",
            " |      \n",
            " |      Example: '.'.join(['ab', 'pq', 'rs']) -> 'ab.pq.rs'\n",
            " |  \n",
            " |  ljust(self, width, fillchar=' ', /)\n",
            " |      Return a left-justified string of length width.\n",
            " |      \n",
            " |      Padding is done using the specified fill character (default is a space).\n",
            " |  \n",
            " |  lower(self, /)\n",
            " |      Return a copy of the string converted to lowercase.\n",
            " |  \n",
            " |  lstrip(self, chars=None, /)\n",
            " |      Return a copy of the string with leading whitespace removed.\n",
            " |      \n",
            " |      If chars is given and not None, remove characters in chars instead.\n",
            " |  \n",
            " |  partition(self, sep, /)\n",
            " |      Partition the string into three parts using the given separator.\n",
            " |      \n",
            " |      This will search for the separator in the string.  If the separator is found,\n",
            " |      returns a 3-tuple containing the part before the separator, the separator\n",
            " |      itself, and the part after it.\n",
            " |      \n",
            " |      If the separator is not found, returns a 3-tuple containing the original string\n",
            " |      and two empty strings.\n",
            " |  \n",
            " |  removeprefix(self, prefix, /)\n",
            " |      Return a str with the given prefix string removed if present.\n",
            " |      \n",
            " |      If the string starts with the prefix string, return string[len(prefix):].\n",
            " |      Otherwise, return a copy of the original string.\n",
            " |  \n",
            " |  removesuffix(self, suffix, /)\n",
            " |      Return a str with the given suffix string removed if present.\n",
            " |      \n",
            " |      If the string ends with the suffix string and that suffix is not empty,\n",
            " |      return string[:-len(suffix)]. Otherwise, return a copy of the original\n",
            " |      string.\n",
            " |  \n",
            " |  replace(self, old, new, count=-1, /)\n",
            " |      Return a copy with all occurrences of substring old replaced by new.\n",
            " |      \n",
            " |        count\n",
            " |          Maximum number of occurrences to replace.\n",
            " |          -1 (the default value) means replace all occurrences.\n",
            " |      \n",
            " |      If the optional argument count is given, only the first count occurrences are\n",
            " |      replaced.\n",
            " |  \n",
            " |  rfind(...)\n",
            " |      S.rfind(sub[, start[, end]]) -> int\n",
            " |      \n",
            " |      Return the highest index in S where substring sub is found,\n",
            " |      such that sub is contained within S[start:end].  Optional\n",
            " |      arguments start and end are interpreted as in slice notation.\n",
            " |      \n",
            " |      Return -1 on failure.\n",
            " |  \n",
            " |  rindex(...)\n",
            " |      S.rindex(sub[, start[, end]]) -> int\n",
            " |      \n",
            " |      Return the highest index in S where substring sub is found,\n",
            " |      such that sub is contained within S[start:end].  Optional\n",
            " |      arguments start and end are interpreted as in slice notation.\n",
            " |      \n",
            " |      Raises ValueError when the substring is not found.\n",
            " |  \n",
            " |  rjust(self, width, fillchar=' ', /)\n",
            " |      Return a right-justified string of length width.\n",
            " |      \n",
            " |      Padding is done using the specified fill character (default is a space).\n",
            " |  \n",
            " |  rpartition(self, sep, /)\n",
            " |      Partition the string into three parts using the given separator.\n",
            " |      \n",
            " |      This will search for the separator in the string, starting at the end. If\n",
            " |      the separator is found, returns a 3-tuple containing the part before the\n",
            " |      separator, the separator itself, and the part after it.\n",
            " |      \n",
            " |      If the separator is not found, returns a 3-tuple containing two empty strings\n",
            " |      and the original string.\n",
            " |  \n",
            " |  rsplit(self, /, sep=None, maxsplit=-1)\n",
            " |      Return a list of the substrings in the string, using sep as the separator string.\n",
            " |      \n",
            " |        sep\n",
            " |          The separator used to split the string.\n",
            " |      \n",
            " |          When set to None (the default value), will split on any whitespace\n",
            " |          character (including \\n \\r \\t \\f and spaces) and will discard\n",
            " |          empty strings from the result.\n",
            " |        maxsplit\n",
            " |          Maximum number of splits.\n",
            " |          -1 (the default value) means no limit.\n",
            " |      \n",
            " |      Splitting starts at the end of the string and works to the front.\n",
            " |  \n",
            " |  rstrip(self, chars=None, /)\n",
            " |      Return a copy of the string with trailing whitespace removed.\n",
            " |      \n",
            " |      If chars is given and not None, remove characters in chars instead.\n",
            " |  \n",
            " |  split(self, /, sep=None, maxsplit=-1)\n",
            " |      Return a list of the substrings in the string, using sep as the separator string.\n",
            " |      \n",
            " |        sep\n",
            " |          The separator used to split the string.\n",
            " |      \n",
            " |          When set to None (the default value), will split on any whitespace\n",
            " |          character (including \\n \\r \\t \\f and spaces) and will discard\n",
            " |          empty strings from the result.\n",
            " |        maxsplit\n",
            " |          Maximum number of splits.\n",
            " |          -1 (the default value) means no limit.\n",
            " |      \n",
            " |      Splitting starts at the front of the string and works to the end.\n",
            " |      \n",
            " |      Note, str.split() is mainly useful for data that has been intentionally\n",
            " |      delimited.  With natural text that includes punctuation, consider using\n",
            " |      the regular expression module.\n",
            " |  \n",
            " |  splitlines(self, /, keepends=False)\n",
            " |      Return a list of the lines in the string, breaking at line boundaries.\n",
            " |      \n",
            " |      Line breaks are not included in the resulting list unless keepends is given and\n",
            " |      true.\n",
            " |  \n",
            " |  startswith(...)\n",
            " |      S.startswith(prefix[, start[, end]]) -> bool\n",
            " |      \n",
            " |      Return True if S starts with the specified prefix, False otherwise.\n",
            " |      With optional start, test S beginning at that position.\n",
            " |      With optional end, stop comparing S at that position.\n",
            " |      prefix can also be a tuple of strings to try.\n",
            " |  \n",
            " |  strip(self, chars=None, /)\n",
            " |      Return a copy of the string with leading and trailing whitespace removed.\n",
            " |      \n",
            " |      If chars is given and not None, remove characters in chars instead.\n",
            " |  \n",
            " |  swapcase(self, /)\n",
            " |      Convert uppercase characters to lowercase and lowercase characters to uppercase.\n",
            " |  \n",
            " |  title(self, /)\n",
            " |      Return a version of the string where each word is titlecased.\n",
            " |      \n",
            " |      More specifically, words start with uppercased characters and all remaining\n",
            " |      cased characters have lower case.\n",
            " |  \n",
            " |  translate(self, table, /)\n",
            " |      Replace each character in the string using the given translation table.\n",
            " |      \n",
            " |        table\n",
            " |          Translation table, which must be a mapping of Unicode ordinals to\n",
            " |          Unicode ordinals, strings, or None.\n",
            " |      \n",
            " |      The table must implement lookup/indexing via __getitem__, for instance a\n",
            " |      dictionary or list.  If this operation raises LookupError, the character is\n",
            " |      left untouched.  Characters mapped to None are deleted.\n",
            " |  \n",
            " |  upper(self, /)\n",
            " |      Return a copy of the string converted to uppercase.\n",
            " |  \n",
            " |  zfill(self, width, /)\n",
            " |      Pad a numeric string with zeros on the left, to fill a field of the given width.\n",
            " |      \n",
            " |      The string is never truncated.\n",
            " |  \n",
            " |  ----------------------------------------------------------------------\n",
            " |  Static methods defined here:\n",
            " |  \n",
            " |  __new__(*args, **kwargs)\n",
            " |      Create and return a new object.  See help(type) for accurate signature.\n",
            " |  \n",
            " |  maketrans(...)\n",
            " |      Return a translation table usable for str.translate().\n",
            " |      \n",
            " |      If there is only one argument, it must be a dictionary mapping Unicode\n",
            " |      ordinals (integers) or characters to Unicode ordinals, strings or None.\n",
            " |      Character keys will be then converted to ordinals.\n",
            " |      If there are two arguments, they must be strings of equal length, and\n",
            " |      in the resulting dictionary, each character in x will be mapped to the\n",
            " |      character at the same position in y. If there is a third argument, it\n",
            " |      must be a string, whose characters will be mapped to None in the result.\n",
            "\n"
          ]
        }
      ]
    },
    {
      "cell_type": "markdown",
      "source": [
        "**Input fucntion in Python**\n",
        "\n",
        "*The input() function allows user input.*"
      ],
      "metadata": {
        "id": "tBbxhu1WuW_L"
      }
    },
    {
      "cell_type": "code",
      "source": [
        "x = input(\"Enter your Name \")\n",
        "print(\"Hello, \" + x)"
      ],
      "metadata": {
        "colab": {
          "base_uri": "https://localhost:8080/"
        },
        "id": "sZntqtkcuRcJ",
        "outputId": "26e283a0-1851-43ef-ba3b-8d2711c8f5da"
      },
      "execution_count": null,
      "outputs": [
        {
          "output_type": "stream",
          "name": "stdout",
          "text": [
            "Enter your Name Asim\n",
            "Hello, Asim\n"
          ]
        }
      ]
    },
    {
      "cell_type": "code",
      "source": [
        "x = input(\"Enter your age: \")\n",
        "print(\"Your age is \" + x)\n",
        "print(type(x))"
      ],
      "metadata": {
        "colab": {
          "base_uri": "https://localhost:8080/"
        },
        "id": "TUW0XL8quo5a",
        "outputId": "4835d27b-87b8-4316-9666-c241fb702d0c"
      },
      "execution_count": null,
      "outputs": [
        {
          "output_type": "stream",
          "name": "stdout",
          "text": [
            "Enter your age: 26\n",
            "Your age is 26\n",
            "<class 'str'>\n"
          ]
        }
      ]
    },
    {
      "cell_type": "markdown",
      "source": [
        "***Q. Write a program to calculate the percentage of a student in the subjects English, Hindi, Maths, Science, and Social***"
      ],
      "metadata": {
        "id": "xH1CQEIZu6K1"
      }
    },
    {
      "cell_type": "code",
      "source": [
        "x = input(\"Enter the name of a student \")\n",
        "a = input(\"Enter the marks scored in English \")\n",
        "b = input(\"Enter the marks scored in Hindi \")\n",
        "c = input(\"Enter the marks scored in Maths \")\n",
        "d = input(\"Enter the marks scored in Science \")\n",
        "e = input(\"Enter the marks scored in Social \")\n",
        "p = int(a)+int(b)+int(c)+int(d)+int(e)\n",
        "n = (p/500)*100\n",
        "print(\"Percent score by the student \", x, \"is \", n, \"%\")"
      ],
      "metadata": {
        "colab": {
          "base_uri": "https://localhost:8080/"
        },
        "id": "oG0e4pqVu1J-",
        "outputId": "ac6fe27e-131e-49be-f05d-9df3e34d30ab"
      },
      "execution_count": null,
      "outputs": [
        {
          "output_type": "stream",
          "name": "stdout",
          "text": [
            "Enter the name of a student Umair\n",
            "Enter the marks scored in English 78\n",
            "Enter the marks scored in Hindi 85\n",
            "Enter the marks scored in Maths 96\n",
            "Enter the marks scored in Science 84\n",
            "Enter the marks scored in Social 74\n",
            "Percent score by the student  Umair is  83.39999999999999 %\n"
          ]
        }
      ]
    },
    {
      "cell_type": "markdown",
      "source": [
        "# **Control Flow Statements in Python**"
      ],
      "metadata": {
        "id": "VRK2xwkawXZ5"
      }
    },
    {
      "cell_type": "markdown",
      "source": [
        "- **IF Statement:**\n",
        "\n",
        "*The if statement is the most simple decision-making statement. It is used to decide whether a certain statement or block of statements will be executed or not*"
      ],
      "metadata": {
        "id": "9TtwB1Bfwb9H"
      }
    },
    {
      "cell_type": "code",
      "source": [
        "i = 10\n",
        "if (i<15):\n",
        "  print(\"10 is less than 15\")\n",
        "print(\"I am outside the if condition\")"
      ],
      "metadata": {
        "colab": {
          "base_uri": "https://localhost:8080/"
        },
        "id": "_V33Bo7mv8B2",
        "outputId": "de92b384-f7d1-400e-b75c-6661e7dcb669"
      },
      "execution_count": null,
      "outputs": [
        {
          "output_type": "stream",
          "name": "stdout",
          "text": [
            "10 is less than 15\n",
            "I am outside the if condition\n"
          ]
        }
      ]
    },
    {
      "cell_type": "markdown",
      "source": [
        "**If the percentage is above 90 Then assign an A Grade If the percentage is above 75 Then assign B Grade If the percentage is above 65 Then assign a C grade.**"
      ],
      "metadata": {
        "id": "it7WDDfExCj4"
      }
    },
    {
      "cell_type": "code",
      "source": [
        "a = int(input(\"Enter the marks scored by student \"))\n",
        "\n",
        "if a>90:\n",
        "  print(\"A Grade\")\n",
        "if a>=75 and a<90:\n",
        "  print(\"B Grade\")\n",
        "if a>=65 and a<75:\n",
        "  print(\"C grade\")"
      ],
      "metadata": {
        "id": "Pqwy6YaHw8-8",
        "outputId": "d7c1c684-5538-49eb-9906-ea58ba615abb",
        "colab": {
          "base_uri": "https://localhost:8080/"
        }
      },
      "execution_count": null,
      "outputs": [
        {
          "output_type": "stream",
          "name": "stdout",
          "text": [
            "Enter the marks scored by student 85\n",
            "B Grade\n"
          ]
        }
      ]
    },
    {
      "cell_type": "markdown",
      "source": [
        "- **IF ELSE Statement:**\n",
        "\n",
        "***Write a program to display hello if number entered by a user is a multiple of 5 else print bye***"
      ],
      "metadata": {
        "id": "nh_B1xQayEYV"
      }
    },
    {
      "cell_type": "code",
      "source": [
        "a = int(input(\"Enter the Number \"))\n",
        "if a%5==0:\n",
        "  print(\"Hello\")\n",
        "else:\n",
        "  print(\"Bye\")"
      ],
      "metadata": {
        "id": "raHtDw2oxrh3",
        "outputId": "7bc50af0-7db1-4851-9c6a-89337b92bd12",
        "colab": {
          "base_uri": "https://localhost:8080/"
        }
      },
      "execution_count": null,
      "outputs": [
        {
          "output_type": "stream",
          "name": "stdout",
          "text": [
            "Enter the Number 25\n",
            "Hello\n"
          ]
        }
      ]
    },
    {
      "cell_type": "markdown",
      "source": [
        "# **User Defined Functions**"
      ],
      "metadata": {
        "id": "oaLgTRcB6NHt"
      }
    },
    {
      "cell_type": "markdown",
      "source": [
        "**Creating & Calling a user defined function**"
      ],
      "metadata": {
        "id": "BrruJSAH6T-U"
      }
    },
    {
      "cell_type": "code",
      "source": [
        "def my_function():\n",
        "  print(\"Hello from a function\")\n",
        "my_function()"
      ],
      "metadata": {
        "id": "IDn-jraayYH3",
        "outputId": "f03d502d-fc63-46f5-8035-38dbbc1944b4",
        "colab": {
          "base_uri": "https://localhost:8080/"
        }
      },
      "execution_count": 1,
      "outputs": [
        {
          "output_type": "stream",
          "name": "stdout",
          "text": [
            "Hello from a function\n"
          ]
        }
      ]
    },
    {
      "cell_type": "markdown",
      "source": [
        "**Making the result of the student**"
      ],
      "metadata": {
        "id": "MxWS196p6tNU"
      }
    },
    {
      "cell_type": "code",
      "source": [
        "def contact():\n",
        "  print(\"Contact details:\")\n",
        "  print(\"Delhi Public School \")\n",
        "  print(\"Bangalore, Karnataka\")\n",
        "  print(\"8446155614\")\n"
      ],
      "metadata": {
        "id": "lEOnZ7BG6gas"
      },
      "execution_count": 2,
      "outputs": []
    },
    {
      "cell_type": "code",
      "source": [
        "for i in range(4):\n",
        "  a = input(\"Enter the name of a student \")\n",
        "  b = int(input(\"Maths Marks: \"))\n",
        "  c = int(input(\"Science Marks: \"))\n",
        "  d = int(input(\"Social Marks: \"))\n",
        "  contact()"
      ],
      "metadata": {
        "id": "wrUlUQeY7EIP",
        "outputId": "656df1bf-e199-429a-ac51-53216bd9db7f",
        "colab": {
          "base_uri": "https://localhost:8080/"
        }
      },
      "execution_count": 4,
      "outputs": [
        {
          "output_type": "stream",
          "name": "stdout",
          "text": [
            "Enter the name of a student Asim\n",
            "Maths Marks: 65\n",
            "Science Marks: 75\n",
            "Social Marks: 89\n",
            "Contact details:\n",
            "Delhi Public School \n",
            "Bangalore, Karnataka\n",
            "8446155614\n",
            "Enter the name of a student Umair\n",
            "Maths Marks: 95\n",
            "Science Marks: 65\n",
            "Social Marks: 30\n",
            "Contact details:\n",
            "Delhi Public School \n",
            "Bangalore, Karnataka\n",
            "8446155614\n",
            "Enter the name of a student Safwan\n",
            "Maths Marks: 55\n",
            "Science Marks: 45\n",
            "Social Marks: 85\n",
            "Contact details:\n",
            "Delhi Public School \n",
            "Bangalore, Karnataka\n",
            "8446155614\n",
            "Enter the name of a student Abdulhaque\n",
            "Maths Marks: 65\n",
            "Science Marks: 66\n",
            "Social Marks: 67\n",
            "Contact details:\n",
            "Delhi Public School \n",
            "Bangalore, Karnataka\n",
            "8446155614\n"
          ]
        }
      ]
    },
    {
      "cell_type": "markdown",
      "source": [
        "### **Arguments**"
      ],
      "metadata": {
        "id": "2c7gYF3J7_MP"
      }
    },
    {
      "cell_type": "markdown",
      "source": [
        "Information can be passed into functions as arguments\n",
        "\n",
        "Arguments are specified after the function name, inside the parantheses(). You can add as many arguments as you want, just separate them with a comma"
      ],
      "metadata": {
        "id": "E-4AyWHs8yZz"
      }
    },
    {
      "cell_type": "code",
      "source": [
        "def my_function(fname):\n",
        "  print(fname + \" Sharma\")"
      ],
      "metadata": {
        "id": "cVJ9QF9a7dXD"
      },
      "execution_count": 7,
      "outputs": []
    },
    {
      "cell_type": "code",
      "source": [
        "my_function(\"Pooja\")\n",
        "my_function(\"Abhishek\")\n",
        "my_function(\"Priya\")"
      ],
      "metadata": {
        "id": "ad0n54v69NF2",
        "outputId": "8c37adc9-43bd-4d2d-eacb-bf55efc721d5",
        "colab": {
          "base_uri": "https://localhost:8080/"
        }
      },
      "execution_count": 8,
      "outputs": [
        {
          "output_type": "stream",
          "name": "stdout",
          "text": [
            "Pooja Sharma\n",
            "Abhishek Sharma\n",
            "Priya Sharma\n"
          ]
        }
      ]
    },
    {
      "cell_type": "markdown",
      "source": [
        "**Number of Arguments**"
      ],
      "metadata": {
        "id": "bYm1nYUX-jZD"
      }
    },
    {
      "cell_type": "code",
      "source": [
        "def my_function(fname, lname):\n",
        "  print(fname + \" \" + lname)"
      ],
      "metadata": {
        "id": "gvdwu4PY9VFl"
      },
      "execution_count": 12,
      "outputs": []
    },
    {
      "cell_type": "code",
      "source": [
        "my_function(\"Swati\",  \"Sharma\")"
      ],
      "metadata": {
        "id": "_ycYe9Q1-utg",
        "outputId": "29a0f9b9-549a-47e7-9a30-6bf1bbc25400",
        "colab": {
          "base_uri": "https://localhost:8080/"
        }
      },
      "execution_count": 14,
      "outputs": [
        {
          "output_type": "stream",
          "name": "stdout",
          "text": [
            "Swati Sharma\n"
          ]
        }
      ]
    },
    {
      "cell_type": "code",
      "source": [
        "my_function(\"Sharey\", \"Verma\")"
      ],
      "metadata": {
        "id": "S9LbiJbP-zUv",
        "outputId": "960cacf4-2583-4fd0-e6c1-67fbf3d12846",
        "colab": {
          "base_uri": "https://localhost:8080/"
        }
      },
      "execution_count": 15,
      "outputs": [
        {
          "output_type": "stream",
          "name": "stdout",
          "text": [
            "Sharey Verma\n"
          ]
        }
      ]
    },
    {
      "cell_type": "markdown",
      "source": [
        "***Write a Python function to check whether a number falls within a given range***"
      ],
      "metadata": {
        "id": "59Lves6-_EhT"
      }
    },
    {
      "cell_type": "code",
      "source": [
        "def test_range(n):\n",
        "  if n in range(3,9):\n",
        "    print( \"%s in the range\"%str(n))\n",
        "  else:\n",
        "    print(\"The number us outside the given range.\")"
      ],
      "metadata": {
        "id": "2F-xsGxG_ARC"
      },
      "execution_count": 16,
      "outputs": []
    },
    {
      "cell_type": "code",
      "source": [
        "test_range(6)"
      ],
      "metadata": {
        "id": "EH3G-EGo_l7p",
        "outputId": "6587e94e-9ca2-4bed-e085-2886a3de800f",
        "colab": {
          "base_uri": "https://localhost:8080/"
        }
      },
      "execution_count": 17,
      "outputs": [
        {
          "output_type": "stream",
          "name": "stdout",
          "text": [
            "6 in the range\n"
          ]
        }
      ]
    },
    {
      "cell_type": "code",
      "source": [
        "test_range(10)"
      ],
      "metadata": {
        "id": "RYZhtf73_oAO",
        "outputId": "623a8517-8902-403e-fa2e-bcd7166ab7e1",
        "colab": {
          "base_uri": "https://localhost:8080/"
        }
      },
      "execution_count": 18,
      "outputs": [
        {
          "output_type": "stream",
          "name": "stdout",
          "text": [
            "The number us outside the given range.\n"
          ]
        }
      ]
    },
    {
      "cell_type": "markdown",
      "source": [
        "**Doc String**"
      ],
      "metadata": {
        "id": "pdmalS3D_rfz"
      }
    },
    {
      "cell_type": "code",
      "source": [
        "def learn():\n",
        "  \"\"\"This function does nothing except printing\"\"\"\n",
        "  print(\"Hello i am a Data Analyst\")\n",
        "  print(\"Python is so easy\")"
      ],
      "metadata": {
        "id": "uUFi57tA_qMy"
      },
      "execution_count": 19,
      "outputs": []
    },
    {
      "cell_type": "code",
      "source": [
        "learn()"
      ],
      "metadata": {
        "id": "cZL_fC4l_623",
        "outputId": "b8d2c254-cbf8-4730-9fdd-bd5a25f8649d",
        "colab": {
          "base_uri": "https://localhost:8080/"
        }
      },
      "execution_count": 21,
      "outputs": [
        {
          "output_type": "stream",
          "name": "stdout",
          "text": [
            "Hello i am a Data Analyst\n",
            "Python is so easy\n"
          ]
        }
      ]
    },
    {
      "cell_type": "code",
      "source": [
        "#A simple Python function to check\n",
        "# Whether x is Even or Odd\n",
        "\n",
        "def EvenOdd(x):\n",
        "  if(x % 2 == 0):\n",
        "    print(\"Even\")\n",
        "  else:\n",
        "    print(\"Odd\")"
      ],
      "metadata": {
        "id": "nawJyTNF_7ib"
      },
      "execution_count": 23,
      "outputs": []
    },
    {
      "cell_type": "code",
      "source": [
        "EvenOdd(2)"
      ],
      "metadata": {
        "id": "Tj-OEPF5AQCe",
        "outputId": "899fd379-de2f-4e19-ed76-59cf46716aa9",
        "colab": {
          "base_uri": "https://localhost:8080/"
        }
      },
      "execution_count": 24,
      "outputs": [
        {
          "output_type": "stream",
          "name": "stdout",
          "text": [
            "Even\n"
          ]
        }
      ]
    },
    {
      "cell_type": "code",
      "source": [
        "EvenOdd(3)"
      ],
      "metadata": {
        "id": "VXr2HtQBAS4C",
        "outputId": "776780f4-c6eb-477d-d618-0cc07b59e8e5",
        "colab": {
          "base_uri": "https://localhost:8080/"
        }
      },
      "execution_count": 25,
      "outputs": [
        {
          "output_type": "stream",
          "name": "stdout",
          "text": [
            "Odd\n"
          ]
        }
      ]
    },
    {
      "cell_type": "markdown",
      "source": [
        "**Default Arguments**"
      ],
      "metadata": {
        "id": "8ZnYiw2KAXf7"
      }
    },
    {
      "cell_type": "markdown",
      "source": [
        "A Default argument is a parameter that assumes a default value if a value is not provided in the function call for that argument. The following example illustrate Default arguments."
      ],
      "metadata": {
        "id": "rqgVjTiSAa_X"
      }
    },
    {
      "cell_type": "code",
      "source": [
        "def myfun(x, y = 50):\n",
        "  print(\"x: \", x)\n",
        "  print(\"y: \", y)"
      ],
      "metadata": {
        "id": "ybVX2kbRAUkF"
      },
      "execution_count": 26,
      "outputs": []
    },
    {
      "cell_type": "code",
      "source": [
        "myfun(11)"
      ],
      "metadata": {
        "id": "65rqmK88A5ru",
        "outputId": "a96fd4b0-3796-4dc0-a379-a900165ba10c",
        "colab": {
          "base_uri": "https://localhost:8080/"
        }
      },
      "execution_count": 27,
      "outputs": [
        {
          "output_type": "stream",
          "name": "stdout",
          "text": [
            "x:  11\n",
            "y:  50\n"
          ]
        }
      ]
    },
    {
      "cell_type": "markdown",
      "source": [
        "**Write a program to calculate the electricity bill of 5 customers**\n",
        "\n",
        "*   If 500 unit = Pay Rs 5 for each unit\n",
        "*   If 700 unit = Pay Rs 10 for each unit\n",
        "*   If 1000 unit = Pay Rs 15 for each unit\n",
        "*   If more than 1000 unit = Pay Rs 20 for each unit\n",
        "\n"
      ],
      "metadata": {
        "id": "o8BGqiJ2BH4Q"
      }
    },
    {
      "cell_type": "code",
      "source": [
        "def electricity_bill(n):\n",
        "  if n <=500:\n",
        "    print(\"Your bill is Rs\", n*5)\n",
        "  elif n>500 and n<=700:\n",
        "    print(\"Your bill is Rs\", n*10)\n",
        "  elif n>700 and n<=1000:\n",
        "    print(\"Your bill is Rs\", n*15)\n",
        "  else:\n",
        "    print(\"Your bill is Rs\", n*20)"
      ],
      "metadata": {
        "id": "g5DjuZrYA7I4"
      },
      "execution_count": 28,
      "outputs": []
    },
    {
      "cell_type": "code",
      "source": [
        "def details_bill():\n",
        "  print(\"The last date of paying the bill is 20th April\")\n",
        "  print(\"After the deadline you need to pay Rs 1000 fine\")\n",
        "  print(\"Pay Your Bill sooon\")"
      ],
      "metadata": {
        "id": "0JNd3mG5CDT4"
      },
      "execution_count": 29,
      "outputs": []
    },
    {
      "cell_type": "code",
      "source": [
        "for i in range(3):\n",
        "  a = input(\"Enter the name of a customer \")\n",
        "  n = int(input(\"Enter the units consumed \"))\n",
        "  electricity_bill(n)\n",
        "  details_bill()"
      ],
      "metadata": {
        "id": "0m4AxOgsCUFi",
        "outputId": "d3504cfd-b72e-4f97-c3be-770b76aed63d",
        "colab": {
          "base_uri": "https://localhost:8080/"
        }
      },
      "execution_count": 32,
      "outputs": [
        {
          "output_type": "stream",
          "name": "stdout",
          "text": [
            "Enter the name of a customer Asim\n",
            "Enter the units consumed 50\n",
            "Your bill is Rs 250\n",
            "The last date of paying the bill is 20th April\n",
            "After the deadline you need to pay Rs 1000 fine\n",
            "Pay Your Bill sooon\n",
            "Enter the name of a customer Ayaan\n",
            "Enter the units consumed 600\n",
            "Your bill is Rs 6000\n",
            "The last date of paying the bill is 20th April\n",
            "After the deadline you need to pay Rs 1000 fine\n",
            "Pay Your Bill sooon\n",
            "Enter the name of a customer Vamshi\n",
            "Enter the units consumed 750\n",
            "Your bill is Rs 11250\n",
            "The last date of paying the bill is 20th April\n",
            "After the deadline you need to pay Rs 1000 fine\n",
            "Pay Your Bill sooon\n"
          ]
        }
      ]
    },
    {
      "cell_type": "code",
      "source": [],
      "metadata": {
        "id": "fVj5j16OCewW"
      },
      "execution_count": null,
      "outputs": []
    }
  ]
}