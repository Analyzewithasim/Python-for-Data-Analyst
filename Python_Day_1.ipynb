{
  "nbformat": 4,
  "nbformat_minor": 0,
  "metadata": {
    "colab": {
      "provenance": [],
      "authorship_tag": "ABX9TyPUPdYVf3uhmFkM256v3Xbn",
      "include_colab_link": true
    },
    "kernelspec": {
      "name": "python3",
      "display_name": "Python 3"
    },
    "language_info": {
      "name": "python"
    }
  },
  "cells": [
    {
      "cell_type": "markdown",
      "metadata": {
        "id": "view-in-github",
        "colab_type": "text"
      },
      "source": [
        "<a href=\"https://colab.research.google.com/github/Analyzewithasim/Python-for-Data-Analyst/blob/main/Python_Day_1.ipynb\" target=\"_parent\"><img src=\"https://colab.research.google.com/assets/colab-badge.svg\" alt=\"Open In Colab\"/></a>"
      ]
    },
    {
      "cell_type": "markdown",
      "source": [
        "# **Python Day 1**"
      ],
      "metadata": {
        "id": "r35iHb-7K_Tt"
      }
    },
    {
      "cell_type": "markdown",
      "source": [
        "`First python program`"
      ],
      "metadata": {
        "id": "8hXqX_mgLLdP"
      }
    },
    {
      "cell_type": "code",
      "source": [
        "print (\"Hello World\")"
      ],
      "metadata": {
        "colab": {
          "base_uri": "https://localhost:8080/"
        },
        "id": "SEIVnwnzLJUJ",
        "outputId": "b0d37e71-6b11-4c6f-f548-13639156342f"
      },
      "execution_count": 1,
      "outputs": [
        {
          "output_type": "stream",
          "name": "stdout",
          "text": [
            "Hello World\n"
          ]
        }
      ]
    },
    {
      "cell_type": "code",
      "source": [
        "print (2 + 1)"
      ],
      "metadata": {
        "colab": {
          "base_uri": "https://localhost:8080/"
        },
        "id": "PbXkD3XmLZTb",
        "outputId": "8a652e6d-f603-46b1-e84a-1a0d4357a75f"
      },
      "execution_count": 2,
      "outputs": [
        {
          "output_type": "stream",
          "name": "stdout",
          "text": [
            "3\n"
          ]
        }
      ]
    },
    {
      "cell_type": "markdown",
      "source": [
        "*Python Comments*"
      ],
      "metadata": {
        "id": "FNK8VKfTLg_4"
      }
    },
    {
      "cell_type": "code",
      "source": [
        "#This is a comment"
      ],
      "metadata": {
        "id": "5rkhaGCJLgC8"
      },
      "execution_count": 3,
      "outputs": []
    },
    {
      "cell_type": "code",
      "source": [
        "print (\"Hello World\") #This is a comment"
      ],
      "metadata": {
        "colab": {
          "base_uri": "https://localhost:8080/"
        },
        "id": "U2bgVRQILycQ",
        "outputId": "998063e2-2108-454d-80e7-5aace55c3a71"
      },
      "execution_count": 4,
      "outputs": [
        {
          "output_type": "stream",
          "name": "stdout",
          "text": [
            "Hello World\n"
          ]
        }
      ]
    },
    {
      "cell_type": "code",
      "source": [
        "#print (\"Hello World\")\n",
        "print (\"Python is a programming language\")"
      ],
      "metadata": {
        "colab": {
          "base_uri": "https://localhost:8080/"
        },
        "id": "4cZVf7iML3eO",
        "outputId": "46433cf1-4c57-4f03-e788-0bfb0713a8ce"
      },
      "execution_count": 5,
      "outputs": [
        {
          "output_type": "stream",
          "name": "stdout",
          "text": [
            "Python is a programming language\n"
          ]
        }
      ]
    },
    {
      "cell_type": "markdown",
      "source": [
        "*Multiline Comments*"
      ],
      "metadata": {
        "id": "fgQ9KwAGMAyK"
      }
    },
    {
      "cell_type": "code",
      "source": [
        "#This is a comment 1\n",
        "#This is a comment 2\n",
        "#This is a comment 3\n",
        "print (\"Hello World\")"
      ],
      "metadata": {
        "colab": {
          "base_uri": "https://localhost:8080/"
        },
        "id": "WoV9d6dHL_ZL",
        "outputId": "13930c49-f64c-4ed3-8b4b-a670c35b67cb"
      },
      "execution_count": 6,
      "outputs": [
        {
          "output_type": "stream",
          "name": "stdout",
          "text": [
            "Hello World\n"
          ]
        }
      ]
    },
    {
      "cell_type": "code",
      "source": [
        "\"\"\"This is a comment 1\"\"\"\n",
        "print (\"Hello World\")"
      ],
      "metadata": {
        "colab": {
          "base_uri": "https://localhost:8080/"
        },
        "id": "i0KgZEn8MOEd",
        "outputId": "ffc1fe8e-ff75-47d3-912e-515a6ee89552"
      },
      "execution_count": 7,
      "outputs": [
        {
          "output_type": "stream",
          "name": "stdout",
          "text": [
            "Hello World\n"
          ]
        }
      ]
    },
    {
      "cell_type": "markdown",
      "source": [
        "# **Python Day 2**"
      ],
      "metadata": {
        "id": "1MH11yt4MiNA"
      }
    },
    {
      "cell_type": "markdown",
      "source": [
        "**Variables & Operators in Python**\n",
        "\n",
        "*A Python Variable is a container that stores values. Python is not a “statically typed \" language. We do not need to declare variables before using them or declare their type. A Python variable is a name given to a memory location. It is the basic unit of storage in a program.*"
      ],
      "metadata": {
        "id": "tdgJLg0tMnEI"
      }
    },
    {
      "cell_type": "markdown",
      "source": [
        "**Creating a Variable**"
      ],
      "metadata": {
        "id": "i7_GIr3yM2ja"
      }
    },
    {
      "cell_type": "code",
      "source": [
        "x = 5\n",
        "y = \"Apple\"\n",
        "print (x)\n",
        "print (y)"
      ],
      "metadata": {
        "colab": {
          "base_uri": "https://localhost:8080/"
        },
        "id": "WmeJBsKtMlSl",
        "outputId": "db3a469e-3e87-4852-885f-30849c2dab08"
      },
      "execution_count": 8,
      "outputs": [
        {
          "output_type": "stream",
          "name": "stdout",
          "text": [
            "5\n",
            "Apple\n"
          ]
        }
      ]
    },
    {
      "cell_type": "markdown",
      "source": [
        "**Many values to multiple variable**"
      ],
      "metadata": {
        "id": "eYooKPY4NAnk"
      }
    },
    {
      "cell_type": "code",
      "source": [
        "x, y, z = \"Orange\", \"Banana\", \"Cherry\"\n",
        "print(x)\n",
        "print(y)\n",
        "print(z)"
      ],
      "metadata": {
        "colab": {
          "base_uri": "https://localhost:8080/"
        },
        "id": "8oSdc8lIM_AG",
        "outputId": "76ecbdfb-3fe9-4a85-eb6a-b532b5bebbba"
      },
      "execution_count": 9,
      "outputs": [
        {
          "output_type": "stream",
          "name": "stdout",
          "text": [
            "Orange\n",
            "Banana\n",
            "Cherry\n"
          ]
        }
      ]
    },
    {
      "cell_type": "code",
      "source": [
        "x=y=z= \"Orange\"\n",
        "print(x)\n",
        "print(y)\n",
        "print(z)"
      ],
      "metadata": {
        "colab": {
          "base_uri": "https://localhost:8080/"
        },
        "id": "dSluYn8wNM3d",
        "outputId": "d3b02b1e-8c22-4e9f-88c1-061a7b9b97ed"
      },
      "execution_count": 10,
      "outputs": [
        {
          "output_type": "stream",
          "name": "stdout",
          "text": [
            "Orange\n",
            "Orange\n",
            "Orange\n"
          ]
        }
      ]
    },
    {
      "cell_type": "markdown",
      "source": [
        "**Python Output variable**\n",
        "\n",
        "*The Python print () function used to output variable*"
      ],
      "metadata": {
        "id": "C4sfLF5jNV9M"
      }
    },
    {
      "cell_type": "code",
      "source": [
        "x = \"Python\"\n",
        "y = \"is\"\n",
        "z = \"Awesome\"\n",
        "print(x,y,z)"
      ],
      "metadata": {
        "colab": {
          "base_uri": "https://localhost:8080/"
        },
        "id": "giKkd9OWNS2j",
        "outputId": "4bbd7c9a-112a-4882-8ee2-a5939d15cd2a"
      },
      "execution_count": 11,
      "outputs": [
        {
          "output_type": "stream",
          "name": "stdout",
          "text": [
            "Python is Awesome\n"
          ]
        }
      ]
    },
    {
      "cell_type": "markdown",
      "source": [
        "# **Data Types in Python**"
      ],
      "metadata": {
        "id": "tVvg8ypSNpgP"
      }
    },
    {
      "cell_type": "markdown",
      "source": [
        "Python has the following data types built-in by default:\n",
        "\n",
        "> **Text Type:** str - “Orange”\n",
        ">\n",
        "\n",
        "> **Numeric Types:** int, float, complex\n",
        ">\n",
        "\n",
        "> **Sequence Types:** list, tuple, range\n",
        ">\n",
        "\n",
        "> **Mapping:** dict\n",
        ">\n",
        "\n",
        "> **Set Types:** set, frozensets\n",
        ">\n",
        "\n",
        "> **Boolean Type:** bool\n",
        ">\n",
        "\n",
        "> **Binary Types:** bytes, bytearray, memoryview\n",
        ">"
      ],
      "metadata": {
        "id": "WRPicusRNwWh"
      }
    },
    {
      "cell_type": "code",
      "source": [
        "x = 2\n",
        "print (x)\n",
        "print (type(x))"
      ],
      "metadata": {
        "colab": {
          "base_uri": "https://localhost:8080/"
        },
        "id": "ryDvjcInNlGU",
        "outputId": "5b4bcb6b-a384-41da-ef78-131ee9e568c3"
      },
      "execution_count": 12,
      "outputs": [
        {
          "output_type": "stream",
          "name": "stdout",
          "text": [
            "2\n",
            "<class 'int'>\n"
          ]
        }
      ]
    },
    {
      "cell_type": "code",
      "source": [
        "y = 2.5\n",
        "print (y)\n",
        "print (type(y))"
      ],
      "metadata": {
        "colab": {
          "base_uri": "https://localhost:8080/"
        },
        "id": "BbzOEvRGN-MM",
        "outputId": "9f4b5349-db5f-4880-ea72-285a5b1d09cd"
      },
      "execution_count": 13,
      "outputs": [
        {
          "output_type": "stream",
          "name": "stdout",
          "text": [
            "2.5\n",
            "<class 'float'>\n"
          ]
        }
      ]
    },
    {
      "cell_type": "code",
      "source": [
        "z = \"Hello Students\"\n",
        "print (z)\n",
        "print (type(z))"
      ],
      "metadata": {
        "colab": {
          "base_uri": "https://localhost:8080/"
        },
        "id": "DO1Xk8fXOC9W",
        "outputId": "5879c856-1659-474b-bfdb-7f1e0e967776"
      },
      "execution_count": 14,
      "outputs": [
        {
          "output_type": "stream",
          "name": "stdout",
          "text": [
            "Hello Students\n",
            "<class 'str'>\n"
          ]
        }
      ]
    },
    {
      "cell_type": "code",
      "source": [
        "a = 2+4j\n",
        "print(a)\n",
        "print(type(a))"
      ],
      "metadata": {
        "colab": {
          "base_uri": "https://localhost:8080/"
        },
        "id": "UHO-vantOJXR",
        "outputId": "83e3f367-91fe-498b-e486-9ee132867962"
      },
      "execution_count": 15,
      "outputs": [
        {
          "output_type": "stream",
          "name": "stdout",
          "text": [
            "(2+4j)\n",
            "<class 'complex'>\n"
          ]
        }
      ]
    },
    {
      "cell_type": "code",
      "source": [
        "b = [1,2,3,4]\n",
        "print(b)\n",
        "print(type(b))"
      ],
      "metadata": {
        "colab": {
          "base_uri": "https://localhost:8080/"
        },
        "id": "NhBKOX4sOQUN",
        "outputId": "ba6b8b65-fe0a-429b-a1de-ae741233cf70"
      },
      "execution_count": 16,
      "outputs": [
        {
          "output_type": "stream",
          "name": "stdout",
          "text": [
            "[1, 2, 3, 4]\n",
            "<class 'list'>\n"
          ]
        }
      ]
    },
    {
      "cell_type": "code",
      "source": [
        "c = (1,2,3)\n",
        "print(c)\n",
        "print(type(c))"
      ],
      "metadata": {
        "colab": {
          "base_uri": "https://localhost:8080/"
        },
        "id": "B7XETnFiOWJA",
        "outputId": "f2587e1c-518a-4194-c41e-ceb5d22ac876"
      },
      "execution_count": 17,
      "outputs": [
        {
          "output_type": "stream",
          "name": "stdout",
          "text": [
            "(1, 2, 3)\n",
            "<class 'tuple'>\n"
          ]
        }
      ]
    },
    {
      "cell_type": "code",
      "source": [
        "d = {1,2,3}\n",
        "print(d)\n",
        "print(type(d))"
      ],
      "metadata": {
        "colab": {
          "base_uri": "https://localhost:8080/"
        },
        "id": "2O7d0_DeOdro",
        "outputId": "8ac83c56-8165-42e7-a08c-6da9414faf28"
      },
      "execution_count": 18,
      "outputs": [
        {
          "output_type": "stream",
          "name": "stdout",
          "text": [
            "{1, 2, 3}\n",
            "<class 'set'>\n"
          ]
        }
      ]
    },
    {
      "cell_type": "code",
      "source": [
        "e = {\"a\":1, \"b\":2}\n",
        "print(e)\n",
        "print(type(e))"
      ],
      "metadata": {
        "colab": {
          "base_uri": "https://localhost:8080/"
        },
        "id": "I8Jxqd8qOkWb",
        "outputId": "54ab518b-d8f6-431c-8e53-95f890171971"
      },
      "execution_count": 19,
      "outputs": [
        {
          "output_type": "stream",
          "name": "stdout",
          "text": [
            "{'a': 1, 'b': 2}\n",
            "<class 'dict'>\n"
          ]
        }
      ]
    },
    {
      "cell_type": "markdown",
      "source": [
        "*%whos - is a \"magic command\" that displays information about all variables currently defined in the active workspace, including their names, types, and sizes.*"
      ],
      "metadata": {
        "id": "eLk_EtuZO06Q"
      }
    },
    {
      "cell_type": "markdown",
      "source": [
        "# **Operators in Python**"
      ],
      "metadata": {
        "id": "NR0e1x7cO7qS"
      }
    },
    {
      "cell_type": "markdown",
      "source": [
        "*In Python programming, Operators are general symbols used to perform operations on values and variables. They are standard symbols used for logical and arithmetic operations. In this article, we will look into different types of Python operators.*"
      ],
      "metadata": {
        "id": "Dcd4BIWAPTD6"
      }
    },
    {
      "cell_type": "markdown",
      "source": [
        "- **Arithmetic Operators:**\n",
        "\n",
        "Python **Arithmetic operators** are used to perform basic mathematical operations like **addition, subtraction, multiplication** and **division**."
      ],
      "metadata": {
        "id": "CH36al3HPdG4"
      }
    },
    {
      "cell_type": "markdown",
      "source": [
        "\n",
        "\n",
        "*   **Addition**\n",
        "\n",
        "\n"
      ],
      "metadata": {
        "id": "y9EQY2eePuee"
      }
    },
    {
      "cell_type": "code",
      "source": [
        "a = 5\n",
        "b = 3\n",
        "print(a+b)"
      ],
      "metadata": {
        "colab": {
          "base_uri": "https://localhost:8080/"
        },
        "id": "4FScjd1yPtZ2",
        "outputId": "c44bacc2-6623-4248-8f4b-e9c7d47f6a7d"
      },
      "execution_count": 20,
      "outputs": [
        {
          "output_type": "stream",
          "name": "stdout",
          "text": [
            "8\n"
          ]
        }
      ]
    },
    {
      "cell_type": "code",
      "source": [
        "a = 5\n",
        "b = 3.4\n",
        "print(a+b)"
      ],
      "metadata": {
        "colab": {
          "base_uri": "https://localhost:8080/"
        },
        "id": "Ze_9XnzqP6LK",
        "outputId": "9ed059a3-cff8-45fb-b5af-2aea0c468ebb"
      },
      "execution_count": 21,
      "outputs": [
        {
          "output_type": "stream",
          "name": "stdout",
          "text": [
            "8.4\n"
          ]
        }
      ]
    },
    {
      "cell_type": "code",
      "source": [
        "a = 3+5j\n",
        "c = 3\n",
        "print(a+b)"
      ],
      "metadata": {
        "colab": {
          "base_uri": "https://localhost:8080/"
        },
        "id": "1MipRhAzP9fQ",
        "outputId": "8a6567c2-3d31-400e-e6d4-05aa8e53f48f"
      },
      "execution_count": 22,
      "outputs": [
        {
          "output_type": "stream",
          "name": "stdout",
          "text": [
            "(6.4+5j)\n"
          ]
        }
      ]
    },
    {
      "cell_type": "code",
      "source": [
        "a = \"Hello \"\n",
        "b = \"World\"\n",
        "print(a+b)"
      ],
      "metadata": {
        "colab": {
          "base_uri": "https://localhost:8080/"
        },
        "id": "RllU6ApcQDIc",
        "outputId": "181a1ac7-e7c7-4e44-a7bb-0230834a8ded"
      },
      "execution_count": 24,
      "outputs": [
        {
          "output_type": "stream",
          "name": "stdout",
          "text": [
            "Hello World\n"
          ]
        }
      ]
    },
    {
      "cell_type": "code",
      "source": [
        "a = 2.34\n",
        "b = 3.456\n",
        "c = 2+7j\n",
        "d = 3\n",
        "e = a+b+c+d\n",
        "print(e)\n",
        "print(type(e))"
      ],
      "metadata": {
        "colab": {
          "base_uri": "https://localhost:8080/"
        },
        "id": "YLQ9e0MVQNRo",
        "outputId": "d40b7e20-1fcf-4c32-d881-8429cc2708a4"
      },
      "execution_count": 25,
      "outputs": [
        {
          "output_type": "stream",
          "name": "stdout",
          "text": [
            "(10.796+7j)\n",
            "<class 'complex'>\n"
          ]
        }
      ]
    },
    {
      "cell_type": "markdown",
      "source": [
        "\n",
        "\n",
        "*   **Substraction**\n",
        "\n"
      ],
      "metadata": {
        "id": "VNN06LmaQep4"
      }
    },
    {
      "cell_type": "code",
      "source": [
        "a = 5\n",
        "b = 3\n",
        "print(a-b)"
      ],
      "metadata": {
        "colab": {
          "base_uri": "https://localhost:8080/"
        },
        "id": "U_i5dA5XQbPZ",
        "outputId": "2ad0229b-413f-497a-9564-2d15ef802f30"
      },
      "execution_count": 26,
      "outputs": [
        {
          "output_type": "stream",
          "name": "stdout",
          "text": [
            "2\n"
          ]
        }
      ]
    },
    {
      "cell_type": "code",
      "source": [
        "a = 5\n",
        "b = 3.4\n",
        "print(a-b)"
      ],
      "metadata": {
        "colab": {
          "base_uri": "https://localhost:8080/"
        },
        "id": "GXwKaCLyQqT1",
        "outputId": "aa97cfea-9ea4-4175-d37c-629b3604d820"
      },
      "execution_count": 27,
      "outputs": [
        {
          "output_type": "stream",
          "name": "stdout",
          "text": [
            "1.6\n"
          ]
        }
      ]
    },
    {
      "cell_type": "code",
      "source": [
        "a = 6\n",
        "b = 18\n",
        "c = a-b\n",
        "print(c)\n",
        "print(type(c))"
      ],
      "metadata": {
        "colab": {
          "base_uri": "https://localhost:8080/"
        },
        "id": "RJOoOqx5QtW0",
        "outputId": "58b60285-41ce-4910-d5ae-465a0b57493f"
      },
      "execution_count": 28,
      "outputs": [
        {
          "output_type": "stream",
          "name": "stdout",
          "text": [
            "-12\n",
            "<class 'int'>\n"
          ]
        }
      ]
    },
    {
      "cell_type": "code",
      "source": [
        "x = 12.345\n",
        "y = 890.12\n",
        "print(y-x)"
      ],
      "metadata": {
        "colab": {
          "base_uri": "https://localhost:8080/"
        },
        "id": "iYYstqrSQ2e8",
        "outputId": "3939e503-9697-4b12-aac6-fa56dd0aa878"
      },
      "execution_count": 29,
      "outputs": [
        {
          "output_type": "stream",
          "name": "stdout",
          "text": [
            "877.775\n"
          ]
        }
      ]
    },
    {
      "cell_type": "code",
      "source": [
        "a = 12+5j\n",
        "b = 8+3j\n",
        "print(a-b)"
      ],
      "metadata": {
        "colab": {
          "base_uri": "https://localhost:8080/"
        },
        "id": "uZ5c_GEEQ_Gq",
        "outputId": "e3658f93-4105-4395-a2cc-5eec9787fcb8"
      },
      "execution_count": 30,
      "outputs": [
        {
          "output_type": "stream",
          "name": "stdout",
          "text": [
            "(4+2j)\n"
          ]
        }
      ]
    },
    {
      "cell_type": "code",
      "source": [
        "a = 112.34\n",
        "b = 2\n",
        "c = 5+2j\n",
        "print((a+b)-c)"
      ],
      "metadata": {
        "colab": {
          "base_uri": "https://localhost:8080/"
        },
        "id": "SVnj5XlGREBd",
        "outputId": "b981180d-1c86-45c2-f573-6fad49325a96"
      },
      "execution_count": 31,
      "outputs": [
        {
          "output_type": "stream",
          "name": "stdout",
          "text": [
            "(109.34-2j)\n"
          ]
        }
      ]
    },
    {
      "cell_type": "code",
      "source": [
        "a = \"Hello\"\n",
        "b = \"World\"\n",
        "print(a-b)"
      ],
      "metadata": {
        "colab": {
          "base_uri": "https://localhost:8080/",
          "height": 176
        },
        "id": "OgKKsf0iRKaw",
        "outputId": "2838678e-4f60-4f87-93ee-55e26f4fe863"
      },
      "execution_count": 32,
      "outputs": [
        {
          "output_type": "error",
          "ename": "TypeError",
          "evalue": "unsupported operand type(s) for -: 'str' and 'str'",
          "traceback": [
            "\u001b[0;31m---------------------------------------------------------------------------\u001b[0m",
            "\u001b[0;31mTypeError\u001b[0m                                 Traceback (most recent call last)",
            "\u001b[0;32m<ipython-input-32-d43b564893d3>\u001b[0m in \u001b[0;36m<cell line: 0>\u001b[0;34m()\u001b[0m\n\u001b[1;32m      1\u001b[0m \u001b[0ma\u001b[0m \u001b[0;34m=\u001b[0m \u001b[0;34m\"Hello\"\u001b[0m\u001b[0;34m\u001b[0m\u001b[0;34m\u001b[0m\u001b[0m\n\u001b[1;32m      2\u001b[0m \u001b[0mb\u001b[0m \u001b[0;34m=\u001b[0m \u001b[0;34m\"World\"\u001b[0m\u001b[0;34m\u001b[0m\u001b[0;34m\u001b[0m\u001b[0m\n\u001b[0;32m----> 3\u001b[0;31m \u001b[0mprint\u001b[0m\u001b[0;34m(\u001b[0m\u001b[0ma\u001b[0m\u001b[0;34m-\u001b[0m\u001b[0mb\u001b[0m\u001b[0;34m)\u001b[0m\u001b[0;34m\u001b[0m\u001b[0;34m\u001b[0m\u001b[0m\n\u001b[0m",
            "\u001b[0;31mTypeError\u001b[0m: unsupported operand type(s) for -: 'str' and 'str'"
          ]
        }
      ]
    },
    {
      "cell_type": "markdown",
      "source": [
        "\n",
        "\n",
        "*   **Multiplication**\n",
        "\n"
      ],
      "metadata": {
        "id": "MzBOjuAVRXmS"
      }
    },
    {
      "cell_type": "code",
      "source": [
        "a = 10\n",
        "b = 5\n",
        "print(a*b)"
      ],
      "metadata": {
        "colab": {
          "base_uri": "https://localhost:8080/"
        },
        "id": "suBGIa8QRck5",
        "outputId": "3a239523-a3c3-49f2-8b7f-27a5991f2fcf"
      },
      "execution_count": 33,
      "outputs": [
        {
          "output_type": "stream",
          "name": "stdout",
          "text": [
            "50\n"
          ]
        }
      ]
    },
    {
      "cell_type": "code",
      "source": [
        "c = 2.345\n",
        "a = 345.678\n",
        "print(c*a)"
      ],
      "metadata": {
        "colab": {
          "base_uri": "https://localhost:8080/"
        },
        "id": "El3j-KQgRSRc",
        "outputId": "a8adc7ab-dba7-4f31-f204-1da0beec88e3"
      },
      "execution_count": 34,
      "outputs": [
        {
          "output_type": "stream",
          "name": "stdout",
          "text": [
            "810.61491\n"
          ]
        }
      ]
    },
    {
      "cell_type": "code",
      "source": [
        "x = 2+3j\n",
        "y = 4+5j\n",
        "print(x*y)"
      ],
      "metadata": {
        "colab": {
          "base_uri": "https://localhost:8080/"
        },
        "id": "Q32jtgRJRl2M",
        "outputId": "791e343f-cdab-47de-d3e9-6b910d01c346"
      },
      "execution_count": 35,
      "outputs": [
        {
          "output_type": "stream",
          "name": "stdout",
          "text": [
            "(-7+22j)\n"
          ]
        }
      ]
    },
    {
      "cell_type": "code",
      "source": [
        "a = 12\n",
        "b = 3.467\n",
        "c = 2+5j\n",
        "e = a*b*c\n",
        "print(e)\n",
        "print(type(e))"
      ],
      "metadata": {
        "colab": {
          "base_uri": "https://localhost:8080/"
        },
        "id": "h4QVH-_yRsTa",
        "outputId": "377a7801-c7ff-48bf-c530-25521541f605"
      },
      "execution_count": 36,
      "outputs": [
        {
          "output_type": "stream",
          "name": "stdout",
          "text": [
            "(83.208+208.01999999999998j)\n",
            "<class 'complex'>\n"
          ]
        }
      ]
    },
    {
      "cell_type": "markdown",
      "source": [
        "\n",
        "\n",
        "*   **Division**\n",
        "\n",
        "\n"
      ],
      "metadata": {
        "id": "TJ-ijX8GSaAq"
      }
    },
    {
      "cell_type": "code",
      "source": [
        "a = 12\n",
        "b = 4\n",
        "print (a/b)"
      ],
      "metadata": {
        "colab": {
          "base_uri": "https://localhost:8080/"
        },
        "id": "Cc51RfJnSfK4",
        "outputId": "4fc63574-8567-41b3-82d8-5e71a4efff43"
      },
      "execution_count": 37,
      "outputs": [
        {
          "output_type": "stream",
          "name": "stdout",
          "text": [
            "3.0\n"
          ]
        }
      ]
    },
    {
      "cell_type": "code",
      "source": [
        "a = 12.5689\n",
        "b = 2.35684\n",
        "print(a/b)"
      ],
      "metadata": {
        "colab": {
          "base_uri": "https://localhost:8080/"
        },
        "id": "142X7QD9SjMn",
        "outputId": "909880f1-4e12-490b-ca2b-4173e5696a82"
      },
      "execution_count": 38,
      "outputs": [
        {
          "output_type": "stream",
          "name": "stdout",
          "text": [
            "5.332945808794826\n"
          ]
        }
      ]
    },
    {
      "cell_type": "code",
      "source": [
        "a = 6+9j\n",
        "c = 3\n",
        "print(a/c)"
      ],
      "metadata": {
        "colab": {
          "base_uri": "https://localhost:8080/"
        },
        "id": "WNJPqDmXSndX",
        "outputId": "9b2e3d67-e96c-4db0-f3a2-cd6c56ac233f"
      },
      "execution_count": 39,
      "outputs": [
        {
          "output_type": "stream",
          "name": "stdout",
          "text": [
            "(2+3j)\n"
          ]
        }
      ]
    },
    {
      "cell_type": "code",
      "source": [
        "a = 12\n",
        "b = 3\n",
        "c = 12+15j\n",
        "d = (a/b)\n",
        "print(c/d)"
      ],
      "metadata": {
        "colab": {
          "base_uri": "https://localhost:8080/"
        },
        "id": "cAIdiFfqSr6n",
        "outputId": "5e5c0b59-2f13-4024-826d-40431831ef89"
      },
      "execution_count": 40,
      "outputs": [
        {
          "output_type": "stream",
          "name": "stdout",
          "text": [
            "(3+3.75j)\n"
          ]
        }
      ]
    },
    {
      "cell_type": "markdown",
      "source": [
        "\n",
        "\n",
        "*  **Modulous**\n",
        "\n"
      ],
      "metadata": {
        "id": "v2Vw4EyuS6jE"
      }
    },
    {
      "cell_type": "code",
      "source": [
        "a = 12\n",
        "b = 3\n",
        "print(a%b)"
      ],
      "metadata": {
        "colab": {
          "base_uri": "https://localhost:8080/"
        },
        "id": "3llAQbtGS2ks",
        "outputId": "42b5601b-4c36-46b0-989c-e6ffeeba45e2"
      },
      "execution_count": 41,
      "outputs": [
        {
          "output_type": "stream",
          "name": "stdout",
          "text": [
            "0\n"
          ]
        }
      ]
    },
    {
      "cell_type": "code",
      "source": [
        "a = 19\n",
        "b = 3\n",
        "print(a%b)"
      ],
      "metadata": {
        "colab": {
          "base_uri": "https://localhost:8080/"
        },
        "id": "All1Rm2KTBIE",
        "outputId": "c5198a8c-dc6a-4961-bd4b-7b16aaeb66ad"
      },
      "execution_count": 42,
      "outputs": [
        {
          "output_type": "stream",
          "name": "stdout",
          "text": [
            "1\n"
          ]
        }
      ]
    },
    {
      "cell_type": "code",
      "source": [
        "b = 5.36\n",
        "c = 2.8\n",
        "print(b%c)"
      ],
      "metadata": {
        "colab": {
          "base_uri": "https://localhost:8080/"
        },
        "id": "lAUBu0n-TF9l",
        "outputId": "670b5217-7236-4884-ff8b-4b7d35a7261d"
      },
      "execution_count": 43,
      "outputs": [
        {
          "output_type": "stream",
          "name": "stdout",
          "text": [
            "2.5600000000000005\n"
          ]
        }
      ]
    },
    {
      "cell_type": "code",
      "source": [
        "b = 12+36j\n",
        "c = 3\n",
        "print(b%c)"
      ],
      "metadata": {
        "colab": {
          "base_uri": "https://localhost:8080/",
          "height": 176
        },
        "id": "yQ3nPzgtTJ7v",
        "outputId": "b0b884f8-122f-4a90-c3d0-7747303d5652"
      },
      "execution_count": 44,
      "outputs": [
        {
          "output_type": "error",
          "ename": "TypeError",
          "evalue": "unsupported operand type(s) for %: 'complex' and 'int'",
          "traceback": [
            "\u001b[0;31m---------------------------------------------------------------------------\u001b[0m",
            "\u001b[0;31mTypeError\u001b[0m                                 Traceback (most recent call last)",
            "\u001b[0;32m<ipython-input-44-e7e422e20ec3>\u001b[0m in \u001b[0;36m<cell line: 0>\u001b[0;34m()\u001b[0m\n\u001b[1;32m      1\u001b[0m \u001b[0mb\u001b[0m \u001b[0;34m=\u001b[0m \u001b[0;36m12\u001b[0m\u001b[0;34m+\u001b[0m\u001b[0;36m36j\u001b[0m\u001b[0;34m\u001b[0m\u001b[0;34m\u001b[0m\u001b[0m\n\u001b[1;32m      2\u001b[0m \u001b[0mc\u001b[0m \u001b[0;34m=\u001b[0m \u001b[0;36m3\u001b[0m\u001b[0;34m\u001b[0m\u001b[0;34m\u001b[0m\u001b[0m\n\u001b[0;32m----> 3\u001b[0;31m \u001b[0mprint\u001b[0m\u001b[0;34m(\u001b[0m\u001b[0mb\u001b[0m\u001b[0;34m%\u001b[0m\u001b[0mc\u001b[0m\u001b[0;34m)\u001b[0m\u001b[0;34m\u001b[0m\u001b[0;34m\u001b[0m\u001b[0m\n\u001b[0m",
            "\u001b[0;31mTypeError\u001b[0m: unsupported operand type(s) for %: 'complex' and 'int'"
          ]
        }
      ]
    },
    {
      "cell_type": "code",
      "source": [
        "%whos"
      ],
      "metadata": {
        "colab": {
          "base_uri": "https://localhost:8080/"
        },
        "id": "p7vtRnf0TboK",
        "outputId": "d055ba01-e7b2-4eb1-ec6f-647f06ea0979"
      },
      "execution_count": 45,
      "outputs": [
        {
          "output_type": "stream",
          "name": "stdout",
          "text": [
            "Variable   Type       Data/Info\n",
            "-------------------------------\n",
            "a          int        19\n",
            "b          complex    (12+36j)\n",
            "c          int        3\n",
            "d          float      4.0\n",
            "e          complex    (83.208+208.01999999999998j)\n",
            "x          complex    (2+3j)\n",
            "y          complex    (4+5j)\n",
            "z          str        Hello Students\n"
          ]
        }
      ]
    },
    {
      "cell_type": "markdown",
      "source": [
        "\n",
        "\n",
        "*   **Exponent**\n",
        "\n",
        "\n",
        "\n"
      ],
      "metadata": {
        "id": "8YTMes63TlNA"
      }
    },
    {
      "cell_type": "code",
      "source": [
        "a = 4\n",
        "print(a**3)"
      ],
      "metadata": {
        "colab": {
          "base_uri": "https://localhost:8080/"
        },
        "id": "Sh7hcLlwTj97",
        "outputId": "5a05b655-91a1-46aa-cab0-c6cd74af9287"
      },
      "execution_count": 46,
      "outputs": [
        {
          "output_type": "stream",
          "name": "stdout",
          "text": [
            "64\n"
          ]
        }
      ]
    },
    {
      "cell_type": "code",
      "source": [
        "a = 12.56\n",
        "print(a**6)"
      ],
      "metadata": {
        "colab": {
          "base_uri": "https://localhost:8080/"
        },
        "id": "pDW5OYMCTvKI",
        "outputId": "a4eb1094-330b-4de0-a934-c8a7164833de"
      },
      "execution_count": 47,
      "outputs": [
        {
          "output_type": "stream",
          "name": "stdout",
          "text": [
            "3925887.3741833675\n"
          ]
        }
      ]
    },
    {
      "cell_type": "code",
      "source": [
        "a = True\n",
        "b = False\n",
        "print(type(a))\n",
        "print(type(b))"
      ],
      "metadata": {
        "colab": {
          "base_uri": "https://localhost:8080/"
        },
        "id": "-Tc4ScsjTx8k",
        "outputId": "c435e95c-8c6e-4146-a845-95a2ea6cf2e1"
      },
      "execution_count": 48,
      "outputs": [
        {
          "output_type": "stream",
          "name": "stdout",
          "text": [
            "<class 'bool'>\n",
            "<class 'bool'>\n"
          ]
        }
      ]
    },
    {
      "cell_type": "code",
      "source": [
        "print(a and b)"
      ],
      "metadata": {
        "colab": {
          "base_uri": "https://localhost:8080/"
        },
        "id": "X7WBy1umT5G0",
        "outputId": "1b92240e-bda9-4d1c-f70a-f717fbd8cea7"
      },
      "execution_count": 50,
      "outputs": [
        {
          "output_type": "stream",
          "name": "stdout",
          "text": [
            "False\n"
          ]
        }
      ]
    },
    {
      "cell_type": "code",
      "source": [
        "print (a or b)"
      ],
      "metadata": {
        "colab": {
          "base_uri": "https://localhost:8080/"
        },
        "id": "BlY0GPQbT8O-",
        "outputId": "d02af252-b4e6-4090-fc10-841a9e3325aa"
      },
      "execution_count": 51,
      "outputs": [
        {
          "output_type": "stream",
          "name": "stdout",
          "text": [
            "True\n"
          ]
        }
      ]
    },
    {
      "cell_type": "code",
      "source": [
        "print(not(a))"
      ],
      "metadata": {
        "colab": {
          "base_uri": "https://localhost:8080/"
        },
        "id": "iSQO6OtaUHnS",
        "outputId": "57f4540b-f114-4d46-a8cc-f00c061eec31"
      },
      "execution_count": 52,
      "outputs": [
        {
          "output_type": "stream",
          "name": "stdout",
          "text": [
            "False\n"
          ]
        }
      ]
    },
    {
      "cell_type": "markdown",
      "source": [
        "**Q. Find the area of rectangle with Length = 12cm and Breadth = 6cm**"
      ],
      "metadata": {
        "id": "ZFCJDj6vUMhm"
      }
    },
    {
      "cell_type": "code",
      "source": [
        "length = 12\n",
        "print(\"The length of the rectangle is 12cm\")\n",
        "breadth = 6\n",
        "print(\"the breadth of the rectangle is 6 cm\")\n",
        "area = (length * breadth)\n",
        "print(\"The are of the rectangle is \", area)"
      ],
      "metadata": {
        "colab": {
          "base_uri": "https://localhost:8080/"
        },
        "id": "0dBPz3zUUJYY",
        "outputId": "f5557508-bb83-4a56-bbda-e1e06d8ceaee"
      },
      "execution_count": 53,
      "outputs": [
        {
          "output_type": "stream",
          "name": "stdout",
          "text": [
            "The length of the rectangle is 12cm\n",
            "the breadth of the rectangle is 6 cm\n",
            "The are of the rectangle is  72\n"
          ]
        }
      ]
    },
    {
      "cell_type": "code",
      "source": [
        "#Solve the equation\n",
        "x = ((234.678 * 89/6) - (745.23**2) + (87.23**45.6))\n",
        "print(x)"
      ],
      "metadata": {
        "colab": {
          "base_uri": "https://localhost:8080/"
        },
        "id": "7eAOuuZXVCep",
        "outputId": "a1535312-c3e3-43ab-db48-5c26fb97714c"
      },
      "execution_count": 54,
      "outputs": [
        {
          "output_type": "stream",
          "name": "stdout",
          "text": [
            "3.1215032029794266e+88\n"
          ]
        }
      ]
    },
    {
      "cell_type": "code",
      "source": [],
      "metadata": {
        "id": "plQxl-NdVPbv"
      },
      "execution_count": null,
      "outputs": []
    }
  ]
}